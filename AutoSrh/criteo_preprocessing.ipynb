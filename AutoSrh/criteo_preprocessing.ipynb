{
 "cells": [
  {
   "cell_type": "code",
   "execution_count": 1,
   "metadata": {},
   "outputs": [],
   "source": [
    "import pandas as pd\n",
    "import operator\n",
    "import torch\n",
    "from torch.utils.data import Dataset\n",
    "import numpy as np\n",
    "\n",
    "def extract_id(row):\n",
    "    return np.int32(row.split(\":\")[0])\n",
    "\n",
    "def extract_value(row):\n",
    "    return np.float32(row.split(\":\")[1])\n",
    "\n",
    "class CTR_Dataset(Dataset):\n",
    "    def __init__(self, id_df, value_df):\n",
    "        self.x_id = torch.LongTensor(np.array(id_df.drop(columns=['rating'])))\n",
    "        self.y = torch.Tensor(np.array(id_df['rating']))\n",
    "        self.x_value = torch.Tensor(np.array(value_df))\n",
    "\n",
    "    def __getitem__(self, idx):\n",
    "        return self.x_id[idx], self.x_value[idx], self.y[idx]\n",
    "\n",
    "    def __len__(self):\n",
    "        return len(self.x_id)"
   ]
  },
  {
   "cell_type": "code",
   "execution_count": null,
   "metadata": {},
   "outputs": [
    {
     "name": "stdout",
     "output_type": "stream",
     "text": [
      "Extracting feature id and feature value...\n"
     ]
    }
   ],
   "source": [
    "path = \"criteo/train.libsvm\"\n",
    "# path = \"criteo/valid.libsvm\"\n",
    "headers = [f\"column_{i}\" for i in range(1,41)]\n",
    "\n",
    "# extract feature id and feature value\n",
    "print(\"Extracting feature id and feature value...\")\n",
    "df = pd.read_csv(path,sep=\" \",names=headers)\n",
    "df_id = df.iloc[:,1:].applymap(extract_id)\n",
    "df_value = df.iloc[:,1:].applymap(extract_value)\n",
    "# del df\n",
    "# df_id = df_id.astype('int32')\n",
    "# df_value = df_value.astype('float32')"
   ]
  },
  {
   "cell_type": "code",
   "execution_count": 6,
   "metadata": {},
   "outputs": [],
   "source": [
    "df_rating = df[\"column_1\"].copy(deep=True)"
   ]
  },
  {
   "cell_type": "code",
   "execution_count": null,
   "metadata": {},
   "outputs": [],
   "source": [
    "del df"
   ]
  },
  {
   "cell_type": "code",
   "execution_count": null,
   "metadata": {},
   "outputs": [],
   "source": [
    "# remap feature id according to feature frequency\n",
    "print(\"Remapping feature id according to feature frequency...\")\n",
    "id_list=[]\n",
    "freq_list=[]\n",
    "for i in range(2,41):\n",
    "    id_list += df_id.groupby(f\"column_{i}\").size().index.to_list()\n",
    "    freq_list += df_id.groupby(f\"column_{i}\").size().to_list()\n",
    "merge_dict = {id_list[i]:freq_list[i] for i in range(len(id_list))}\n",
    "sorted_list= sorted(merge_dict.items(), key=operator.itemgetter(1))[::-1]\n",
    "train_id_mapping = {sorted_list[i][0]:i for i in range(len(sorted_list))}\n",
    "df_id_remap = df_id.applymap(train_id_mapping.get)"
   ]
  },
  {
   "cell_type": "code",
   "execution_count": null,
   "metadata": {},
   "outputs": [],
   "source": []
  },
  {
   "cell_type": "code",
   "execution_count": 12,
   "metadata": {},
   "outputs": [
    {
     "name": "stdout",
     "output_type": "stream",
     "text": [
      "Constructing dataset...\n"
     ]
    }
   ],
   "source": [
    "# construct dataset\n",
    "print(\"Constructing dataset...\")\n",
    "df_id_remap[\"rating\"]=df_rating\n",
    "dataset = CTR_Dataset(df_id_remap,df_value)"
   ]
  },
  {
   "cell_type": "code",
   "execution_count": 16,
   "metadata": {},
   "outputs": [
    {
     "name": "stdout",
     "output_type": "stream",
     "text": [
      "File saved\n"
     ]
    }
   ],
   "source": [
    "import pickle\n",
    "with open(\"train_dataset_and_mapping.pickle\",'wb') as f:\n",
    "    pickle.dump([dataset,train_id_mapping], f, protocol=4)\n",
    "    print(\"File saved\")"
   ]
  },
  {
   "cell_type": "code",
   "execution_count": 3,
   "metadata": {},
   "outputs": [],
   "source": [
    "import pickle\n",
    "with open(\"train_dataset_and_mapping.pickle\",'rb') as f:\n",
    "    dataset, train_id_mapping = pickle.load(f)"
   ]
  },
  {
   "cell_type": "code",
   "execution_count": 17,
   "metadata": {},
   "outputs": [
    {
     "name": "stdout",
     "output_type": "stream",
     "text": [
      "File saved\n"
     ]
    }
   ],
   "source": [
    "with open(\"train_id_mapping.pickle\",'wb') as f:\n",
    "    pickle.dump([train_id_mapping], f)\n",
    "    print(\"File saved\")"
   ]
  },
  {
   "cell_type": "code",
   "execution_count": 3,
   "metadata": {},
   "outputs": [],
   "source": [
    "import pickle\n",
    "with open(\"train_id_mapping.pickle\",'rb') as f:\n",
    "    train_id_mapping=pickle.load(f)[0]"
   ]
  },
  {
   "cell_type": "code",
   "execution_count": 14,
   "metadata": {},
   "outputs": [
    {
     "data": {
      "text/plain": [
       "2086974"
      ]
     },
     "execution_count": 14,
     "metadata": {},
     "output_type": "execute_result"
    }
   ],
   "source": [
    "import numpy as np\n",
    "np.array(list(train_id_mapping.keys())).max()"
   ]
  },
  {
   "cell_type": "code",
   "execution_count": 2,
   "metadata": {},
   "outputs": [],
   "source": [
    "def id_remap_train(key):\n",
    "    try:\n",
    "        return train_id_mapping[key]\n",
    "    except:\n",
    "        return 2086975"
   ]
  },
  {
   "cell_type": "code",
   "execution_count": null,
   "metadata": {},
   "outputs": [
    {
     "name": "stdout",
     "output_type": "stream",
     "text": [
      "Extracting feature id and feature value...\n",
      "Remapping feature id according to feature frequency...\n"
     ]
    }
   ],
   "source": [
    "path = \"criteo/valid.libsvm\"\n",
    "headers = [f\"column_{i}\" for i in range(1,41)]\n",
    "\n",
    "# extract feature id and feature value\n",
    "print(\"Extracting feature id and feature value...\")\n",
    "df = pd.read_csv(path,sep=\" \",names=headers)\n",
    "df_id = df.iloc[:,1:].applymap(extract_id)\n",
    "df_value = df.iloc[:,1:].applymap(extract_value)\n",
    "df_rating = df[\"column_1\"].copy(deep=True)\n",
    "del df\n",
    "# remap feature id according to feature frequency\n",
    "print(\"Remapping feature id according to feature frequency...\")\n",
    "df_id_remap = df_id.applymap(id_remap_train)\n",
    "# construct dataset\n",
    "print(\"Constructing dataset...\")\n",
    "df_id_remap[\"rating\"]=df_rating\n",
    "dataset = CTR_Dataset(df_id_remap,df_value)\n",
    "with open(\"valid_dataset.pickle\",'wb') as f:\n",
    "    pickle.dump([dataset], f, protocol=4)\n",
    "    print(\"File saved\")"
   ]
  },
  {
   "cell_type": "code",
   "execution_count": 4,
   "metadata": {},
   "outputs": [
    {
     "name": "stdout",
     "output_type": "stream",
     "text": [
      "Extracting feature id and feature value...\n",
      "Remapping feature id according to feature frequency...\n",
      "Constructing dataset...\n",
      "File saved\n"
     ]
    }
   ],
   "source": [
    "path = \"criteo/test.libsvm\"\n",
    "headers = [f\"column_{i}\" for i in range(1,41)]\n",
    "\n",
    "# extract feature id and feature value\n",
    "print(\"Extracting feature id and feature value...\")\n",
    "df = pd.read_csv(path,sep=\" \",names=headers)\n",
    "df_id = df.iloc[:,1:].applymap(extract_id)\n",
    "df_value = df.iloc[:,1:].applymap(extract_value)\n",
    "df_rating = df[\"column_1\"].copy(deep=True)\n",
    "del df\n",
    "# remap feature id according to feature frequency\n",
    "print(\"Remapping feature id according to feature frequency...\")\n",
    "df_id_remap = df_id.applymap(id_remap_train)\n",
    "# construct dataset\n",
    "print(\"Constructing dataset...\")\n",
    "df_id_remap[\"rating\"]=df_rating\n",
    "dataset = CTR_Dataset(df_id_remap,df_value)\n",
    "with open(\"test_dataset.pickle\",'wb') as f:\n",
    "    pickle.dump([dataset], f, protocol=4)\n",
    "    print(\"File saved\")"
   ]
  },
  {
   "cell_type": "code",
   "execution_count": 2,
   "metadata": {},
   "outputs": [],
   "source": [
    "import pickle\n",
    "with open(\"train_dataset_and_mapping.pickle\",'rb') as f:\n",
    "    train_dataset, _ = pickle.load(f)\n",
    "with open(\"valid_dataset.pickle\",'rb') as f:\n",
    "    valid_dataset = pickle.load(f)\n",
    "with open(\"test_dataset.pickle\",'rb') as f:\n",
    "    test_dataset = pickle.load(f)"
   ]
  },
  {
   "cell_type": "code",
   "execution_count": 4,
   "metadata": {},
   "outputs": [
    {
     "name": "stdout",
     "output_type": "stream",
     "text": [
      "File saved.\n"
     ]
    }
   ],
   "source": [
    "datasets = [train_dataset, valid_dataset, test_dataset, 2086976]\n",
    "with open(\"criteo/datasets.pickle\", 'wb') as f:\n",
    "    pickle.dump(datasets, f, protocol=4)\n",
    "    print(\"File saved.\")"
   ]
  },
  {
   "cell_type": "code",
   "execution_count": 6,
   "metadata": {},
   "outputs": [],
   "source": [
    "with open(\"valid_dataset.pickle\",'rb') as f:\n",
    "    valid_dataset = pickle.load(f)"
   ]
  },
  {
   "cell_type": "code",
   "execution_count": 30,
   "metadata": {},
   "outputs": [
    {
     "data": {
      "text/plain": [
       "tensor([    12,     11,     10,      9,      8,      7,      6,      5,      4,\n",
       "             3,      2,      1,      0,    560,    629,   1284,   1283,     59,\n",
       "            36, 197495,     16,     13,     30,   5761,   1282,   5759,     27,\n",
       "          1667,   1281,     62,    821,     20,     22,   1280,     14,    218,\n",
       "           485,     21,     19])"
      ]
     },
     "execution_count": 30,
     "metadata": {},
     "output_type": "execute_result"
    }
   ],
   "source": [
    "valid_dataset[0][0][0]"
   ]
  },
  {
   "cell_type": "code",
   "execution_count": 32,
   "metadata": {},
   "outputs": [],
   "source": [
    "size_array = np.zeros(2086976)"
   ]
  },
  {
   "cell_type": "code",
   "execution_count": 33,
   "metadata": {},
   "outputs": [
    {
     "data": {
      "text/plain": [
       "12"
      ]
     },
     "execution_count": 33,
     "metadata": {},
     "output_type": "execute_result"
    }
   ],
   "source": [
    "valid_dataset[0][0][0][0].item()"
   ]
  },
  {
   "cell_type": "code",
   "execution_count": 35,
   "metadata": {},
   "outputs": [],
   "source": [
    "for data in valid_dataset[0]:\n",
    "    size_array[data[0].tolist()]+=1"
   ]
  },
  {
   "cell_type": "code",
   "execution_count": 44,
   "metadata": {},
   "outputs": [
    {
     "name": "stdout",
     "output_type": "stream",
     "text": [
      "i=3 for index 1\n",
      "ratio: 1.4374865834585543e-06\n",
      "i=7 for index 2\n",
      "ratio: 3.3541353614032936e-06\n",
      "i=11 for index 3\n",
      "ratio: 5.270784139348033e-06\n",
      "i=16 for index 4\n",
      "ratio: 7.666595111778957e-06\n",
      "i=25 for index 5\n",
      "ratio: 1.197905486215462e-05\n",
      "i=42 for index 6\n",
      "ratio: 2.0124812168419763e-05\n",
      "i=127 for index 7\n",
      "ratio: 6.085359869974547e-05\n",
      "i=945 for index 8\n",
      "ratio: 0.00045280827378944464\n",
      "i=7619 for index 9\n",
      "ratio: 0.003650736759790242\n",
      "i=2086975 for index 10\n",
      "ratio: 0.9999995208378055\n"
     ]
    }
   ],
   "source": [
    "sum=0\n",
    "size_sum = size_array.sum()\n",
    "index = 1\n",
    "for i,size in enumerate(size_array):\n",
    "    sum+=size\n",
    "    if sum//(size_sum//10*index)==1:\n",
    "        print(f\"i={i} for index {index}\")\n",
    "        print(f\"ratio: {i/(size_array.shape[0])}\")\n",
    "        index+=1"
   ]
  },
  {
   "cell_type": "code",
   "execution_count": 63,
   "metadata": {},
   "outputs": [
    {
     "data": {
      "text/plain": [
       "<matplotlib.axes._subplots.AxesSubplot at 0x7f50305567f0>"
      ]
     },
     "execution_count": 63,
     "metadata": {},
     "output_type": "execute_result"
    },
    {
     "data": {
      "image/png": "[encoded data removed]",
      "text/plain": [
       "<Figure size 432x288 with 1 Axes>"
      ]
     },
     "metadata": {
      "needs_background": "light"
     },
     "output_type": "display_data"
    }
   ],
   "source": [
    "import seaborn as sns\n",
    "\n",
    "sns.distplot(np.log(size_array+1))"
   ]
  },
  {
   "cell_type": "code",
   "execution_count": 67,
   "metadata": {},
   "outputs": [
    {
     "name": "stderr",
     "output_type": "stream",
     "text": [
      "/home/chengweiyu/anaconda3/lib/python3.7/site-packages/ipykernel_launcher.py:4: RuntimeWarning: divide by zero encountered in log\n",
      "  after removing the cwd from sys.path.\n",
      "/home/chengweiyu/anaconda3/lib/python3.7/site-packages/ipykernel_launcher.py:4: RuntimeWarning: invalid value encountered in double_scalars\n",
      "  after removing the cwd from sys.path.\n"
     ]
    },
    {
     "name": "stdout",
     "output_type": "stream",
     "text": [
      "i=686 for index 1\n",
      "ratio: 0.00032870526541752275\n",
      "i=688 for index 2\n",
      "ratio: 0.00032966358980649515\n",
      "i=1462499 for index 3\n",
      "ratio: 0.7007742302738508\n",
      "i=1896826 for index 4\n",
      "ratio: 0.9088873087184519\n",
      "i=1998980 for index 5\n",
      "ratio: 0.9578356435339936\n",
      "i=2049260 for index 6\n",
      "ratio: 0.9819279186727591\n",
      "i=2067979 for index 7\n",
      "ratio: 0.990897355791346\n",
      "i=2080119 for index 8\n",
      "ratio: 0.9967143848324083\n",
      "i=2084638 for index 9\n",
      "ratio: 0.9988797187892913\n",
      "i=2086114 for index 10\n",
      "ratio: 0.9995869621883529\n",
      "i=2086663 for index 11\n",
      "ratio: 0.9998500222331258\n",
      "i=2086839 for index 12\n",
      "ratio: 0.9999343547793554\n",
      "i=2086910 for index 13\n",
      "ratio: 0.9999683752951639\n",
      "i=2086930 for index 14\n",
      "ratio: 0.9999779585390537\n",
      "i=2086948 for index 15\n",
      "ratio: 0.9999865834585544\n",
      "i=2086963 for index 16\n",
      "ratio: 0.9999937708914717\n"
     ]
    }
   ],
   "source": [
    "size_max = np.log(size_array[0])\n",
    "index = 1\n",
    "for i,size in enumerate(size_array[::-1]):\n",
    "    if np.log(size)//(size_max//10*index)==1:\n",
    "        print(f\"i={i} for index {index}\")\n",
    "        print(f\"ratio: {i/(size_array.shape[0])}\")\n",
    "        index+=1"
   ]
  },
  {
   "cell_type": "code",
   "execution_count": 71,
   "metadata": {},
   "outputs": [
    {
     "name": "stdout",
     "output_type": "stream",
     "text": [
      "i=0, max=9595869.0, min=479.0\n",
      "i=1, max=948.0, min=153.0\n",
      "i=2, max=392.0, min=68.0\n",
      "i=3, max=220.0, min=41.0\n",
      "i=4, max=154.0, min=24.0\n",
      "i=5, max=130.0, min=17.0\n",
      "i=6, max=83.0, min=3.0\n",
      "i=7, max=74.0, min=4.0\n",
      "i=8, max=69.0, min=4.0\n",
      "i=9, max=63.0, min=3.0\n",
      "i=10, max=51.0, min=2.0\n",
      "i=11, max=46.0, min=1.0\n",
      "i=12, max=44.0, min=1.0\n",
      "i=13, max=41.0, min=0.0\n",
      "i=14, max=39.0, min=0.0\n",
      "i=15, max=37.0, min=0.0\n",
      "i=16, max=33.0, min=0.0\n",
      "i=17, max=33.0, min=0.0\n",
      "i=18, max=31.0, min=0.0\n",
      "i=19, max=28.0, min=0.0\n",
      "i=20, max=27.0, min=0.0\n",
      "i=21, max=27.0, min=0.0\n",
      "i=22, max=26.0, min=0.0\n",
      "i=23, max=24.0, min=0.0\n",
      "i=24, max=22.0, min=0.0\n",
      "i=25, max=19.0, min=0.0\n",
      "i=26, max=26.0, min=0.0\n",
      "i=27, max=26.0, min=0.0\n",
      "i=28, max=19.0, min=0.0\n",
      "i=29, max=21.0, min=0.0\n",
      "i=30, max=20.0, min=0.0\n",
      "i=31, max=20.0, min=0.0\n",
      "i=32, max=20.0, min=0.0\n",
      "i=33, max=20.0, min=0.0\n",
      "i=34, max=20.0, min=0.0\n",
      "i=35, max=20.0, min=0.0\n",
      "i=36, max=20.0, min=0.0\n",
      "i=37, max=17.0, min=0.0\n",
      "i=38, max=16.0, min=0.0\n",
      "i=39, max=17.0, min=0.0\n",
      "i=40, max=17.0, min=0.0\n",
      "i=41, max=17.0, min=0.0\n",
      "i=42, max=16.0, min=0.0\n",
      "i=43, max=19.0, min=0.0\n",
      "i=44, max=14.0, min=0.0\n",
      "i=45, max=19.0, min=0.0\n",
      "i=46, max=19.0, min=0.0\n",
      "i=47, max=16.0, min=0.0\n",
      "i=48, max=16.0, min=0.0\n",
      "i=49, max=16.0, min=0.0\n",
      "i=50, max=14.0, min=0.0\n",
      "i=51, max=14.0, min=0.0\n",
      "i=52, max=16.0, min=0.0\n",
      "i=53, max=14.0, min=0.0\n",
      "i=54, max=10.0, min=0.0\n",
      "i=55, max=15.0, min=0.0\n",
      "i=56, max=6.0, min=0.0\n",
      "i=57, max=14.0, min=0.0\n",
      "i=58, max=14.0, min=0.0\n",
      "i=59, max=4.0, min=0.0\n",
      "i=60, max=18.0, min=0.0\n",
      "i=61, max=14.0, min=0.0\n",
      "i=62, max=4.0, min=0.0\n",
      "i=63, max=14.0, min=0.0\n",
      "i=64, max=16.0, min=0.0\n",
      "i=65, max=4.0, min=0.0\n",
      "i=66, max=16.0, min=0.0\n",
      "i=67, max=2.0, min=0.0\n",
      "i=68, max=8.0, min=0.0\n",
      "i=69, max=16.0, min=0.0\n",
      "i=70, max=4.0, min=0.0\n",
      "i=71, max=16.0, min=0.0\n",
      "i=72, max=9.0, min=0.0\n",
      "i=73, max=16.0, min=0.0\n",
      "i=74, max=2.0, min=0.0\n",
      "i=75, max=8.0, min=0.0\n",
      "i=76, max=16.0, min=0.0\n",
      "i=77, max=2.0, min=0.0\n",
      "i=78, max=6.0, min=0.0\n",
      "i=79, max=14.0, min=0.0\n",
      "i=80, max=4.0, min=0.0\n",
      "i=81, max=12.0, min=0.0\n",
      "i=82, max=2.0, min=0.0\n",
      "i=83, max=4.0, min=0.0\n",
      "i=84, max=14.0, min=0.0\n",
      "i=85, max=6.0, min=0.0\n",
      "i=86, max=11.0, min=0.0\n",
      "i=87, max=4.0, min=0.0\n",
      "i=88, max=10.0, min=0.0\n",
      "i=89, max=14.0, min=0.0\n",
      "i=90, max=10.0, min=0.0\n",
      "i=91, max=14.0, min=0.0\n",
      "i=92, max=14.0, min=0.0\n",
      "i=93, max=7.0, min=0.0\n",
      "i=94, max=14.0, min=0.0\n",
      "i=95, max=14.0, min=0.0\n",
      "i=96, max=14.0, min=0.0\n",
      "i=97, max=10.0, min=0.0\n",
      "i=98, max=10.0, min=0.0\n",
      "i=99, max=10.0, min=0.0\n"
     ]
    }
   ],
   "source": [
    "bulk_num = 100\n",
    "bulk = size_array.shape[0]//bulk_num\n",
    "for i in range(bulk_num):\n",
    "    print(f\"i={i}, max={size_array[i*bulk:(i+1)*bulk].max()}, min={size_array[i*bulk:(i+1)*bulk].min()}\")"
   ]
  },
  {
   "cell_type": "code",
   "execution_count": 77,
   "metadata": {},
   "outputs": [
    {
     "name": "stdout",
     "output_type": "stream",
     "text": [
      "i=2086976 for index 0\n",
      "ratio: 0.0\n",
      "i=2086222 for index 1\n",
      "ratio: 0.0003612882946425833\n",
      "i=110262 for index 2\n",
      "ratio: 0.9471666181115643\n",
      "i=18997 for index 3\n",
      "ratio: 0.990897355791346\n",
      "i=1940 for index 4\n",
      "ratio: 0.9990704253426969\n",
      "i=177 for index 5\n",
      "ratio: 0.999915188291576\n",
      "i=51 for index 6\n",
      "ratio: 0.9999755627280812\n"
     ]
    }
   ],
   "source": [
    "size_max = size_array[0]\n",
    "mag = 1\n",
    "index=0\n",
    "l=[]\n",
    "for i,size in enumerate(size_array[::-1]):\n",
    "    if size>=mag:\n",
    "        l+=[size_array.shape[0]-i]\n",
    "        print(f\"i={size_array.shape[0]-i} for index {index}\")\n",
    "        print(f\"ratio: {i/(size_array.shape[0])}\")\n",
    "        mag*=10\n",
    "        index+=1"
   ]
  },
  {
   "cell_type": "code",
   "execution_count": 79,
   "metadata": {},
   "outputs": [],
   "source": [
    "l=np.array(l)"
   ]
  },
  {
   "cell_type": "code",
   "execution_count": 80,
   "metadata": {},
   "outputs": [
    {
     "data": {
      "text/plain": [
       "array([    754, 1975960,   91265,   17057,    1763,     126])"
      ]
     },
     "execution_count": 80,
     "metadata": {},
     "output_type": "execute_result"
    }
   ],
   "source": [
    "l[:-1]-l[1:]"
   ]
  },
  {
   "cell_type": "code",
   "execution_count": 82,
   "metadata": {},
   "outputs": [
    {
     "name": "stdout",
     "output_type": "stream",
     "text": [
      "dnis-ctr-4_warm_start_0.pth  warm_start_model_14.pth\n",
      "nas_31.tar\t\t     warm_start_model_4.pth\n",
      "warm_start_64_14.pth\t     warm_start_noproject_14.pth\n",
      "warm_start_model_0.pth\n"
     ]
    }
   ],
   "source": [
    "!ls ../checkpoint"
   ]
  },
  {
   "cell_type": "code",
   "execution_count": null,
   "metadata": {},
   "outputs": [],
   "source": []
  }
 ],
 "metadata": {
  "kernelspec": {
   "display_name": "Python 3",
   "language": "python",
   "name": "python3"
  },
  "language_info": {
   "codemirror_mode": {
    "name": "ipython",
    "version": 3
   },
   "file_extension": ".py",
   "mimetype": "text/x-python",
   "name": "python",
   "nbconvert_exporter": "python",
   "pygments_lexer": "ipython3",
   "version": "3.7.3"
  }
 },
 "nbformat": 4,
 "nbformat_minor": 4
}
