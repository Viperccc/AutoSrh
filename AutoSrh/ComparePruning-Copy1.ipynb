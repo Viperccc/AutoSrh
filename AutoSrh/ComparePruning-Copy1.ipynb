{
 "cells": [
  {
   "cell_type": "code",
   "execution_count": 13,
   "metadata": {},
   "outputs": [],
   "source": [
    "import argparse\n",
    "import torch\n",
    "import wandb\n",
    "import os\n",
    "import time\n",
    "import numpy as np\n",
    "from tqdm import tqdm_notebook as tqdm\n",
    "from torch.utils.data import DataLoader\n",
    "from data.dataset import get_cf_dataset,get_ctr_dataset,CTR_Dataset\n",
    "from utils import seed_everything\n",
    "from model.nas import Dnis, AdamNas, FM\n",
    "from shutil import copyfile\n",
    "import sys\n",
    "from model import base_model"
   ]
  },
  {
   "cell_type": "code",
   "execution_count": 2,
   "metadata": {},
   "outputs": [],
   "source": [
    "parser = argparse.ArgumentParser()\n",
    "parser.add_argument(\"--data_path\", type=str, default='data/criteo/datasets.pickle')\n",
    "parser.add_argument(\"--exp\", type=str, default='nas 31')\n",
    "parser.add_argument(\"--cuda\", nargs='*', type=int, default=[2,3], help='cuda visible devices')\n",
    "parser.add_argument(\"--embedding_dim\", type=int, default=64)\n",
    "parser.add_argument(\"--batch_size\", type=int, default=2048)\n",
    "parser.add_argument(\"--lr_w\", type=float, default=1e-2)\n",
    "parser.add_argument(\"--lr_a\", type=float, default=1e-2)\n",
    "parser.add_argument(\"--num_epochs\", type=int, default=100)\n",
    "parser.add_argument(\"--init_alpha\", type=float, default=1)\n",
    "parser.add_argument(\"--alpha_optim\", type=str, default='SGD')\n",
    "parser.add_argument(\"--load_checkpoint\", type=int, default=1)\n",
    "parser.add_argument(\"--warm_start\", type=int, default=0)\n",
    "parser.add_argument(\"--num_dim_split\", type=int, default=64)\n",
    "parser.add_argument(\"--search_space\", type=str, default='free')\n",
    "parser.add_argument(\"--l1\", type=float, default=0)\n",
    "parser.add_argument(\"--normalize\", type=int, default=0)\n",
    "parser.add_argument(\"--use_second_grad\", type=int, default=1)\n",
    "parser.add_argument(\"--model_name\", type=str, default='FM')\n",
    "parser.add_argument(\"--alpha_upper_round\", type=int, default=0)\n",
    "parser.add_argument(\"--dataset_type\", type=str, default='ctr')\n",
    "args = parser.parse_args(\"\".split())\n",
    "os.environ[\"CUDA_VISIBLE_DEVICES\"] = f'{args.cuda}'[1:-1]\n",
    "device = torch.device('cuda')"
   ]
  },
  {
   "cell_type": "code",
   "execution_count": 3,
   "metadata": {},
   "outputs": [
    {
     "name": "stdout",
     "output_type": "stream",
     "text": [
      "The dataset has been processed. Reading the cache...\n"
     ]
    }
   ],
   "source": [
    "train_dataset, val_dataset, test_dataset, num_features = get_ctr_dataset(args.data_path)\n",
    "val_dataset = val_dataset[0]\n",
    "test_dataset = test_dataset[0]\n",
    "num_fields = 39\n",
    "batch_size = args.batch_size\n",
    "val_dataloader = DataLoader(val_dataset, batch_size, shuffle=True, num_workers=8, pin_memory=True)\n",
    "test_dataloader = DataLoader(test_dataset, batch_size, shuffle=False, num_workers=8, pin_memory=True)"
   ]
  },
  {
   "cell_type": "code",
   "execution_count": 6,
   "metadata": {},
   "outputs": [],
   "source": [
    "model = getattr(base_model, args.model_name)(num_features, args.embedding_dim, num_fields)"
   ]
  },
  {
   "cell_type": "code",
   "execution_count": 8,
   "metadata": {},
   "outputs": [],
   "source": [
    "checkpoint = torch.load(\"checkpoint/GS-SE-ctr-FM-64.tar\")"
   ]
  },
  {
   "cell_type": "code",
   "execution_count": 11,
   "metadata": {},
   "outputs": [
    {
     "data": {
      "text/plain": [
       "<All keys matched successfully>"
      ]
     },
     "execution_count": 11,
     "metadata": {},
     "output_type": "execute_result"
    }
   ],
   "source": [
    "model.load_state_dict(checkpoint['model'])"
   ]
  },
  {
   "cell_type": "code",
   "execution_count": 12,
   "metadata": {},
   "outputs": [],
   "source": [
    "model = model.to(device)"
   ]
  },
  {
   "cell_type": "code",
   "execution_count": 13,
   "metadata": {},
   "outputs": [
    {
     "data": {
      "text/plain": [
       "FM(\n",
       "  (feature_embeddings): Embedding(2086976, 64)\n",
       "  (feature_biases): Embedding(2086976, 1)\n",
       ")"
      ]
     },
     "execution_count": 13,
     "metadata": {},
     "output_type": "execute_result"
    }
   ],
   "source": [
    "model.eval()"
   ]
  },
  {
   "cell_type": "code",
   "execution_count": 15,
   "metadata": {},
   "outputs": [
    {
     "data": {
      "application/vnd.jupyter.widget-view+json": {
       "model_id": "eaf41e1356d142c7b2731637843052ff",
       "version_major": 2,
       "version_minor": 0
      },
      "text/plain": [
       "HBox(children=(IntProgress(value=1, bar_style='info', max=1), HTML(value='')))"
      ]
     },
     "metadata": {},
     "output_type": "display_data"
    },
    {
     "name": "stdout",
     "output_type": "stream",
     "text": [
      "\n"
     ]
    },
    {
     "data": {
      "text/plain": [
       "(0.45260075076616235, 0.7986788492928761)"
      ]
     },
     "execution_count": 15,
     "metadata": {},
     "output_type": "execute_result"
    }
   ],
   "source": [
    "val(model,test_dataloader)"
   ]
  },
  {
   "cell_type": "code",
   "execution_count": 16,
   "metadata": {},
   "outputs": [],
   "source": [
    "arr = np.reshape(model.feature_embeddings.weight.data.abs().detach().cpu(),(-1))\n",
    "arr = np.sort(arr)\n",
    "embedding_checkpoint = model.feature_embeddings.weight.data.clone().detach()\n",
    "losses = []\n",
    "aucs = []\n",
    "pruned = []\n",
    "for i in range(100):\n",
    "    threshold = arr[int(arr.shape[0]*i/100)]\n",
    "    model.feature_embeddings.weight.data = embedding_checkpoint.clone().detach()\n",
    "    model.feature_embeddings.weight.data[model.feature_embeddings.weight.data.abs()<threshold]=0\n",
    "    loss, auc = val(model,test_dataloader)\n",
    "    print(f\"pruned: {i}%, loss: {loss}, auc: {auc}\")\n",
    "    losses+=[loss]\n",
    "    aucs+=[auc]\n",
    "    pruned+=[i]\n",
    "\n",
    "import seaborn as sns\n",
    "sns.set()\n",
    "sns.lineplot(x=pruned,y=aucs)\n",
    "sns.lineplot(x=pruned,y=losses)"
   ]
  },
  {
   "cell_type": "code",
   "execution_count": 4,
   "metadata": {},
   "outputs": [
    {
     "name": "stdout",
     "output_type": "stream",
     "text": [
      "dnis.feature_nums:tensor([     51,     126,    1763,   17057,   91265, 1976714])\n"
     ]
    }
   ],
   "source": [
    "dnis = Dnis(num_features, args.embedding_dim, num_dim_split=args.num_dim_split, search_space=args.search_space,\n",
    "                normalize=args.normalize, model_name=args.model_name,num_fields=num_fields, feature_split=[51,126,1763,17057,91265,0])"
   ]
  },
  {
   "cell_type": "code",
   "execution_count": 5,
   "metadata": {},
   "outputs": [
    {
     "data": {
      "text/plain": [
       "<All keys matched successfully>"
      ]
     },
     "execution_count": 5,
     "metadata": {},
     "output_type": "execute_result"
    }
   ],
   "source": [
    "dnis.load_state_dict(torch.load(\"checkpoint/DNIS-CTR_FM_warm_start.pth\"))"
   ]
  },
  {
   "cell_type": "code",
   "execution_count": 6,
   "metadata": {},
   "outputs": [],
   "source": [
    "# dnis.load_state_dict(torch.load(\"wandb/run-20200103_095706-0e3f7p5b/DNIS-CF.tar\"))\n",
    "# dnis.load_state_dict(torch.load(\"wandb/run-20200112_075137-roh2036g/DNIS-CF-5split.tar\"))\n",
    "# dnis.load_state_dict(torch.load(\"wandb/run-20200109_074057-oeqtv404/DNIS-CTR.tar\"))"
   ]
  },
  {
   "cell_type": "code",
   "execution_count": 7,
   "metadata": {},
   "outputs": [
    {
     "data": {
      "text/plain": [
       "Dnis(\n",
       "  (feature_embeddings): Embedding(2086976, 64)\n",
       "  (model): FM(\n",
       "    (feature_biases): Embedding(2086976, 1)\n",
       "  )\n",
       ")"
      ]
     },
     "execution_count": 7,
     "metadata": {},
     "output_type": "execute_result"
    }
   ],
   "source": [
    "dnis.eval()"
   ]
  },
  {
   "cell_type": "code",
   "execution_count": 8,
   "metadata": {},
   "outputs": [],
   "source": [
    "from sklearn.metrics import roc_auc_score\n",
    "def val(model, dataloader):\n",
    "    model.eval()\n",
    "    running_loss = 0\n",
    "    pred_arr = np.array([])\n",
    "    label_arr = np.array([])\n",
    "    with torch.no_grad():\n",
    "        for itr, batch in tqdm(enumerate(dataloader)):\n",
    "            batch = [item.to(device) for item in batch]\n",
    "            feature_ids, feature_vals, labels = batch\n",
    "            outputs = model(feature_ids, feature_vals)\n",
    "            loss = torch.nn.BCEWithLogitsLoss()(outputs.squeeze(), labels.squeeze())\n",
    "            running_loss += loss.data.detach().cpu().item()\n",
    "            pred_arr = np.hstack(\n",
    "                [pred_arr, outputs.data.detach().cpu()]) if pred_arr.size else outputs.data.detach().cpu()\n",
    "            label_arr = np.hstack(\n",
    "                [label_arr, labels.data.detach().cpu()]) if label_arr.size else labels.data.detach().cpu()\n",
    "        val_loss = running_loss / (itr + 1)\n",
    "        torch.cuda.empty_cache()\n",
    "    if args.dataset_type == \"ctr\":\n",
    "        auc = roc_auc_score(label_arr, pred_arr)\n",
    "        return val_loss, auc\n",
    "    return val_loss, 0"
   ]
  },
  {
   "cell_type": "code",
   "execution_count": 9,
   "metadata": {},
   "outputs": [
    {
     "data": {
      "application/vnd.jupyter.widget-view+json": {
       "model_id": "e474a5c5cbdf4f3d86d5d37757fea173",
       "version_major": 2,
       "version_minor": 0
      },
      "text/plain": [
       "HBox(children=(IntProgress(value=1, bar_style='info', max=1), HTML(value='')))"
      ]
     },
     "metadata": {},
     "output_type": "display_data"
    },
    {
     "name": "stdout",
     "output_type": "stream",
     "text": [
      "\n"
     ]
    },
    {
     "data": {
      "text/plain": [
       "(0.45243305496073194, 0.7989111350779803)"
      ]
     },
     "execution_count": 9,
     "metadata": {},
     "output_type": "execute_result"
    }
   ],
   "source": [
    "dnis=dnis.to(device)\n",
    "val(dnis,test_dataloader)"
   ]
  },
  {
   "cell_type": "code",
   "execution_count": 10,
   "metadata": {},
   "outputs": [],
   "source": [
    "arr = np.reshape(dnis.feature_embeddings.weight.data.abs().detach().cpu(),(-1))\n",
    "arr = np.sort(arr)"
   ]
  },
  {
   "cell_type": "code",
   "execution_count": 11,
   "metadata": {},
   "outputs": [],
   "source": [
    "embedding_checkpoint = dnis.feature_embeddings.weight.data.clone().detach()"
   ]
  },
  {
   "cell_type": "code",
   "execution_count": 14,
   "metadata": {},
   "outputs": [
    {
     "data": {
      "application/vnd.jupyter.widget-view+json": {
       "model_id": "fd8ab75e04c34124994652fca875e413",
       "version_major": 2,
       "version_minor": 0
      },
      "text/plain": [
       "HBox(children=(IntProgress(value=1, bar_style='info', max=1), HTML(value='')))"
      ]
     },
     "metadata": {},
     "output_type": "display_data"
    },
    {
     "name": "stdout",
     "output_type": "stream",
     "text": [
      "\n",
      "pruned: 18%, loss: 0.507574244708355, auc: 0.7640583612975675\n"
     ]
    }
   ],
   "source": [
    "losses = []\n",
    "aucs = []\n",
    "pruned = []\n",
    "\n",
    "# threshold = arr[int(arr.shape[0]*i/100)-1]\n",
    "# dnis.feature_embeddings.weight.data = embedding_checkpoint.clone().detach()\n",
    "# dnis.feature_embeddings.weight.data[dnis.feature_embeddings.weight.data.abs()<=threshold]=0\n",
    "dnis.feature_embeddings.weight.data[:] = 0\n",
    "loss, auc = val(dnis,test_dataloader)\n",
    "print(f\"pruned: {100}%, loss: {loss}, auc: {auc}\")\n",
    "losses+=[loss]\n",
    "aucs+=[auc]\n",
    "pruned+=[i]"
   ]
  },
  {
   "cell_type": "code",
   "execution_count": 12,
   "metadata": {},
   "outputs": [
    {
     "data": {
      "application/vnd.jupyter.widget-view+json": {
       "model_id": "93c9c01fbcf6425babd90d5615578701",
       "version_major": 2,
       "version_minor": 0
      },
      "text/plain": [
       "HBox(children=(IntProgress(value=1, bar_style='info', max=1), HTML(value='')))"
      ]
     },
     "metadata": {},
     "output_type": "display_data"
    },
    {
     "name": "stdout",
     "output_type": "stream",
     "text": [
      "\n",
      "pruned: 0%, loss: 0.45243305496073194, auc: 0.7989111350779803\n"
     ]
    },
    {
     "data": {
      "application/vnd.jupyter.widget-view+json": {
       "model_id": "ab9c8aaf7692453b9f115c7c2e4fcdc4",
       "version_major": 2,
       "version_minor": 0
      },
      "text/plain": [
       "HBox(children=(IntProgress(value=1, bar_style='info', max=1), HTML(value='')))"
      ]
     },
     "metadata": {},
     "output_type": "display_data"
    },
    {
     "name": "stdout",
     "output_type": "stream",
     "text": [
      "\n",
      "pruned: 1%, loss: 0.45243299634062817, auc: 0.7989111530202245\n"
     ]
    },
    {
     "data": {
      "application/vnd.jupyter.widget-view+json": {
       "model_id": "62f63900de274cdcaa470a19561bf401",
       "version_major": 2,
       "version_minor": 0
      },
      "text/plain": [
       "HBox(children=(IntProgress(value=1, bar_style='info', max=1), HTML(value='')))"
      ]
     },
     "metadata": {},
     "output_type": "display_data"
    },
    {
     "name": "stdout",
     "output_type": "stream",
     "text": [
      "\n",
      "pruned: 2%, loss: 0.4524330535637481, auc: 0.7989111274828997\n"
     ]
    },
    {
     "data": {
      "application/vnd.jupyter.widget-view+json": {
       "model_id": "492349ebbe504e5ca9960cbc1f0a964f",
       "version_major": 2,
       "version_minor": 0
      },
      "text/plain": [
       "HBox(children=(IntProgress(value=1, bar_style='info', max=1), HTML(value='')))"
      ]
     },
     "metadata": {},
     "output_type": "display_data"
    },
    {
     "name": "stdout",
     "output_type": "stream",
     "text": [
      "\n",
      "pruned: 3%, loss: 0.4524331618632589, auc: 0.7989111246507409\n"
     ]
    },
    {
     "data": {
      "application/vnd.jupyter.widget-view+json": {
       "model_id": "ee908c51791448f9a50b106d436a1a32",
       "version_major": 2,
       "version_minor": 0
      },
      "text/plain": [
       "HBox(children=(IntProgress(value=1, bar_style='info', max=1), HTML(value='')))"
      ]
     },
     "metadata": {},
     "output_type": "display_data"
    },
    {
     "name": "stdout",
     "output_type": "stream",
     "text": [
      "\n",
      "pruned: 4%, loss: 0.4524329200253955, auc: 0.7989112367513224\n"
     ]
    },
    {
     "data": {
      "application/vnd.jupyter.widget-view+json": {
       "model_id": "c6a0b5c689dd4826986f37c026748e25",
       "version_major": 2,
       "version_minor": 0
      },
      "text/plain": [
       "HBox(children=(IntProgress(value=1, bar_style='info', max=1), HTML(value='')))"
      ]
     },
     "metadata": {},
     "output_type": "display_data"
    },
    {
     "name": "stdout",
     "output_type": "stream",
     "text": [
      "\n",
      "pruned: 5%, loss: 0.45243312351937803, auc: 0.7989113710444444\n"
     ]
    },
    {
     "data": {
      "application/vnd.jupyter.widget-view+json": {
       "model_id": "6a3ffa9b0fbf4dfd9070e4386230efc5",
       "version_major": 2,
       "version_minor": 0
      },
      "text/plain": [
       "HBox(children=(IntProgress(value=1, bar_style='info', max=1), HTML(value='')))"
      ]
     },
     "metadata": {},
     "output_type": "display_data"
    },
    {
     "name": "stdout",
     "output_type": "stream",
     "text": [
      "\n",
      "pruned: 6%, loss: 0.45243315761908887, auc: 0.7989115042795146\n"
     ]
    },
    {
     "data": {
      "application/vnd.jupyter.widget-view+json": {
       "model_id": "4d4318986faf41d784b343386e1dc82e",
       "version_major": 2,
       "version_minor": 0
      },
      "text/plain": [
       "HBox(children=(IntProgress(value=1, bar_style='info', max=1), HTML(value='')))"
      ]
     },
     "metadata": {},
     "output_type": "display_data"
    },
    {
     "name": "stdout",
     "output_type": "stream",
     "text": [
      "\n",
      "pruned: 7%, loss: 0.45243247325665187, auc: 0.79891161753082\n"
     ]
    },
    {
     "data": {
      "application/vnd.jupyter.widget-view+json": {
       "model_id": "a0aff78d40164d479cdc3401b48f94cd",
       "version_major": 2,
       "version_minor": 0
      },
      "text/plain": [
       "HBox(children=(IntProgress(value=1, bar_style='info', max=1), HTML(value='')))"
      ]
     },
     "metadata": {},
     "output_type": "display_data"
    },
    {
     "name": "stdout",
     "output_type": "stream",
     "text": [
      "\n",
      "pruned: 8%, loss: 0.45243070238669003, auc: 0.7989119836708237\n"
     ]
    },
    {
     "data": {
      "application/vnd.jupyter.widget-view+json": {
       "model_id": "1b19be5653af45cebcc6f43d324a8d51",
       "version_major": 2,
       "version_minor": 0
      },
      "text/plain": [
       "HBox(children=(IntProgress(value=1, bar_style='info', max=1), HTML(value='')))"
      ]
     },
     "metadata": {},
     "output_type": "display_data"
    },
    {
     "name": "stdout",
     "output_type": "stream",
     "text": [
      "\n",
      "pruned: 9%, loss: 0.45243068362719246, auc: 0.7989121479080983\n"
     ]
    },
    {
     "data": {
      "application/vnd.jupyter.widget-view+json": {
       "model_id": "b4b84ee243d540c6b645c37bcb76767a",
       "version_major": 2,
       "version_minor": 0
      },
      "text/plain": [
       "HBox(children=(IntProgress(value=1, bar_style='info', max=1), HTML(value='')))"
      ]
     },
     "metadata": {},
     "output_type": "display_data"
    },
    {
     "name": "stdout",
     "output_type": "stream",
     "text": [
      "\n",
      "pruned: 10%, loss: 0.4524302485531994, auc: 0.798911286226981\n"
     ]
    },
    {
     "data": {
      "application/vnd.jupyter.widget-view+json": {
       "model_id": "67cf40ad0ae2404f8162dd6684697fa6",
       "version_major": 2,
       "version_minor": 0
      },
      "text/plain": [
       "HBox(children=(IntProgress(value=1, bar_style='info', max=1), HTML(value='')))"
      ]
     },
     "metadata": {},
     "output_type": "display_data"
    },
    {
     "name": "stdout",
     "output_type": "stream",
     "text": [
      "\n",
      "pruned: 11%, loss: 0.45242944581966316, auc: 0.798912232979006\n"
     ]
    },
    {
     "data": {
      "application/vnd.jupyter.widget-view+json": {
       "model_id": "9df978ccf75f49b58dc691542ff0d8b8",
       "version_major": 2,
       "version_minor": 0
      },
      "text/plain": [
       "HBox(children=(IntProgress(value=1, bar_style='info', max=1), HTML(value='')))"
      ]
     },
     "metadata": {},
     "output_type": "display_data"
    },
    {
     "name": "stdout",
     "output_type": "stream",
     "text": [
      "\n",
      "pruned: 12%, loss: 0.45242814287277205, auc: 0.7989116734823903\n"
     ]
    },
    {
     "data": {
      "application/vnd.jupyter.widget-view+json": {
       "model_id": "0136b3e78543499ca45eea52e967943f",
       "version_major": 2,
       "version_minor": 0
      },
      "text/plain": [
       "HBox(children=(IntProgress(value=1, bar_style='info', max=1), HTML(value='')))"
      ]
     },
     "metadata": {},
     "output_type": "display_data"
    },
    {
     "name": "stdout",
     "output_type": "stream",
     "text": [
      "\n",
      "pruned: 13%, loss: 0.4524265211873821, auc: 0.7989122353011591\n"
     ]
    },
    {
     "data": {
      "application/vnd.jupyter.widget-view+json": {
       "model_id": "015cdf54aa5f46fdbe1fb670ea0b6539",
       "version_major": 2,
       "version_minor": 0
      },
      "text/plain": [
       "HBox(children=(IntProgress(value=1, bar_style='info', max=1), HTML(value='')))"
      ]
     },
     "metadata": {},
     "output_type": "display_data"
    },
    {
     "name": "stdout",
     "output_type": "stream",
     "text": [
      "\n",
      "pruned: 14%, loss: 0.4524263675058527, auc: 0.7989122995734662\n"
     ]
    },
    {
     "data": {
      "application/vnd.jupyter.widget-view+json": {
       "model_id": "0513e046c88f4508af059088234872fa",
       "version_major": 2,
       "version_minor": 0
      },
      "text/plain": [
       "HBox(children=(IntProgress(value=1, bar_style='info', max=1), HTML(value='')))"
      ]
     },
     "metadata": {},
     "output_type": "display_data"
    },
    {
     "name": "stdout",
     "output_type": "stream",
     "text": [
      "\n",
      "pruned: 15%, loss: 0.45242428077118735, auc: 0.7989130868803231\n"
     ]
    },
    {
     "data": {
      "application/vnd.jupyter.widget-view+json": {
       "model_id": "69a7cdc6f2b846d3a88bea15fb6cb248",
       "version_major": 2,
       "version_minor": 0
      },
      "text/plain": [
       "HBox(children=(IntProgress(value=1, bar_style='info', max=1), HTML(value='')))"
      ]
     },
     "metadata": {},
     "output_type": "display_data"
    },
    {
     "name": "stdout",
     "output_type": "stream",
     "text": [
      "\n",
      "pruned: 16%, loss: 0.45242293679288453, auc: 0.7989134040743812\n"
     ]
    },
    {
     "data": {
      "application/vnd.jupyter.widget-view+json": {
       "model_id": "fa104c55a26d4ebaa6d55411bfecc0f6",
       "version_major": 2,
       "version_minor": 0
      },
      "text/plain": [
       "HBox(children=(IntProgress(value=1, bar_style='info', max=1), HTML(value='')))"
      ]
     },
     "metadata": {},
     "output_type": "display_data"
    },
    {
     "name": "stdout",
     "output_type": "stream",
     "text": [
      "\n",
      "pruned: 17%, loss: 0.4524196938744613, auc: 0.7989127292099797\n"
     ]
    },
    {
     "data": {
      "application/vnd.jupyter.widget-view+json": {
       "model_id": "9f027a7f2e1a4f11856067a4e2bceeaa",
       "version_major": 2,
       "version_minor": 0
      },
      "text/plain": [
       "HBox(children=(IntProgress(value=1, bar_style='info', max=1), HTML(value='')))"
      ]
     },
     "metadata": {},
     "output_type": "display_data"
    },
    {
     "name": "stdout",
     "output_type": "stream",
     "text": [
      "\n"
     ]
    },
    {
     "ename": "KeyboardInterrupt",
     "evalue": "",
     "output_type": "error",
     "traceback": [
      "\u001b[0;31m---------------------------------------------------------------------------\u001b[0m",
      "\u001b[0;31mKeyboardInterrupt\u001b[0m                         Traceback (most recent call last)",
      "\u001b[0;32m<ipython-input-12-06909ea2e4f5>\u001b[0m in \u001b[0;36m<module>\u001b[0;34m\u001b[0m\n\u001b[1;32m      6\u001b[0m     \u001b[0mdnis\u001b[0m\u001b[0;34m.\u001b[0m\u001b[0mfeature_embeddings\u001b[0m\u001b[0;34m.\u001b[0m\u001b[0mweight\u001b[0m\u001b[0;34m.\u001b[0m\u001b[0mdata\u001b[0m \u001b[0;34m=\u001b[0m \u001b[0membedding_checkpoint\u001b[0m\u001b[0;34m.\u001b[0m\u001b[0mclone\u001b[0m\u001b[0;34m(\u001b[0m\u001b[0;34m)\u001b[0m\u001b[0;34m.\u001b[0m\u001b[0mdetach\u001b[0m\u001b[0;34m(\u001b[0m\u001b[0;34m)\u001b[0m\u001b[0;34m\u001b[0m\u001b[0;34m\u001b[0m\u001b[0m\n\u001b[1;32m      7\u001b[0m     \u001b[0mdnis\u001b[0m\u001b[0;34m.\u001b[0m\u001b[0mfeature_embeddings\u001b[0m\u001b[0;34m.\u001b[0m\u001b[0mweight\u001b[0m\u001b[0;34m.\u001b[0m\u001b[0mdata\u001b[0m\u001b[0;34m[\u001b[0m\u001b[0mdnis\u001b[0m\u001b[0;34m.\u001b[0m\u001b[0mfeature_embeddings\u001b[0m\u001b[0;34m.\u001b[0m\u001b[0mweight\u001b[0m\u001b[0;34m.\u001b[0m\u001b[0mdata\u001b[0m\u001b[0;34m.\u001b[0m\u001b[0mabs\u001b[0m\u001b[0;34m(\u001b[0m\u001b[0;34m)\u001b[0m\u001b[0;34m<\u001b[0m\u001b[0mthreshold\u001b[0m\u001b[0;34m]\u001b[0m\u001b[0;34m=\u001b[0m\u001b[0;36m0\u001b[0m\u001b[0;34m\u001b[0m\u001b[0;34m\u001b[0m\u001b[0m\n\u001b[0;32m----> 8\u001b[0;31m     \u001b[0mloss\u001b[0m\u001b[0;34m,\u001b[0m \u001b[0mauc\u001b[0m \u001b[0;34m=\u001b[0m \u001b[0mval\u001b[0m\u001b[0;34m(\u001b[0m\u001b[0mdnis\u001b[0m\u001b[0;34m,\u001b[0m\u001b[0mtest_dataloader\u001b[0m\u001b[0;34m)\u001b[0m\u001b[0;34m\u001b[0m\u001b[0;34m\u001b[0m\u001b[0m\n\u001b[0m\u001b[1;32m      9\u001b[0m     \u001b[0mprint\u001b[0m\u001b[0;34m(\u001b[0m\u001b[0;34mf\"pruned: {i}%, loss: {loss}, auc: {auc}\"\u001b[0m\u001b[0;34m)\u001b[0m\u001b[0;34m\u001b[0m\u001b[0;34m\u001b[0m\u001b[0m\n\u001b[1;32m     10\u001b[0m     \u001b[0mlosses\u001b[0m\u001b[0;34m+=\u001b[0m\u001b[0;34m[\u001b[0m\u001b[0mloss\u001b[0m\u001b[0;34m]\u001b[0m\u001b[0;34m\u001b[0m\u001b[0;34m\u001b[0m\u001b[0m\n",
      "\u001b[0;32m<ipython-input-8-0b9216b55154>\u001b[0m in \u001b[0;36mval\u001b[0;34m(model, dataloader)\u001b[0m\n\u001b[1;32m     19\u001b[0m         \u001b[0mtorch\u001b[0m\u001b[0;34m.\u001b[0m\u001b[0mcuda\u001b[0m\u001b[0;34m.\u001b[0m\u001b[0mempty_cache\u001b[0m\u001b[0;34m(\u001b[0m\u001b[0;34m)\u001b[0m\u001b[0;34m\u001b[0m\u001b[0;34m\u001b[0m\u001b[0m\n\u001b[1;32m     20\u001b[0m     \u001b[0;32mif\u001b[0m \u001b[0margs\u001b[0m\u001b[0;34m.\u001b[0m\u001b[0mdataset_type\u001b[0m \u001b[0;34m==\u001b[0m \u001b[0;34m\"ctr\"\u001b[0m\u001b[0;34m:\u001b[0m\u001b[0;34m\u001b[0m\u001b[0;34m\u001b[0m\u001b[0m\n\u001b[0;32m---> 21\u001b[0;31m         \u001b[0mauc\u001b[0m \u001b[0;34m=\u001b[0m \u001b[0mroc_auc_score\u001b[0m\u001b[0;34m(\u001b[0m\u001b[0mlabel_arr\u001b[0m\u001b[0;34m,\u001b[0m \u001b[0mpred_arr\u001b[0m\u001b[0;34m)\u001b[0m\u001b[0;34m\u001b[0m\u001b[0;34m\u001b[0m\u001b[0m\n\u001b[0m\u001b[1;32m     22\u001b[0m         \u001b[0;32mreturn\u001b[0m \u001b[0mval_loss\u001b[0m\u001b[0;34m,\u001b[0m \u001b[0mauc\u001b[0m\u001b[0;34m\u001b[0m\u001b[0;34m\u001b[0m\u001b[0m\n\u001b[1;32m     23\u001b[0m     \u001b[0;32mreturn\u001b[0m \u001b[0mval_loss\u001b[0m\u001b[0;34m,\u001b[0m \u001b[0;36m0\u001b[0m\u001b[0;34m\u001b[0m\u001b[0;34m\u001b[0m\u001b[0m\n",
      "\u001b[0;32m~/anaconda3/lib/python3.7/site-packages/sklearn/metrics/ranking.py\u001b[0m in \u001b[0;36mroc_auc_score\u001b[0;34m(y_true, y_score, average, sample_weight, max_fpr)\u001b[0m\n\u001b[1;32m    353\u001b[0m     return _average_binary_score(\n\u001b[1;32m    354\u001b[0m         \u001b[0m_binary_roc_auc_score\u001b[0m\u001b[0;34m,\u001b[0m \u001b[0my_true\u001b[0m\u001b[0;34m,\u001b[0m \u001b[0my_score\u001b[0m\u001b[0;34m,\u001b[0m \u001b[0maverage\u001b[0m\u001b[0;34m,\u001b[0m\u001b[0;34m\u001b[0m\u001b[0;34m\u001b[0m\u001b[0m\n\u001b[0;32m--> 355\u001b[0;31m         sample_weight=sample_weight)\n\u001b[0m\u001b[1;32m    356\u001b[0m \u001b[0;34m\u001b[0m\u001b[0m\n\u001b[1;32m    357\u001b[0m \u001b[0;34m\u001b[0m\u001b[0m\n",
      "\u001b[0;32m~/anaconda3/lib/python3.7/site-packages/sklearn/metrics/base.py\u001b[0m in \u001b[0;36m_average_binary_score\u001b[0;34m(binary_metric, y_true, y_score, average, sample_weight)\u001b[0m\n\u001b[1;32m     74\u001b[0m \u001b[0;34m\u001b[0m\u001b[0m\n\u001b[1;32m     75\u001b[0m     \u001b[0;32mif\u001b[0m \u001b[0my_type\u001b[0m \u001b[0;34m==\u001b[0m \u001b[0;34m\"binary\"\u001b[0m\u001b[0;34m:\u001b[0m\u001b[0;34m\u001b[0m\u001b[0;34m\u001b[0m\u001b[0m\n\u001b[0;32m---> 76\u001b[0;31m         \u001b[0;32mreturn\u001b[0m \u001b[0mbinary_metric\u001b[0m\u001b[0;34m(\u001b[0m\u001b[0my_true\u001b[0m\u001b[0;34m,\u001b[0m \u001b[0my_score\u001b[0m\u001b[0;34m,\u001b[0m \u001b[0msample_weight\u001b[0m\u001b[0;34m=\u001b[0m\u001b[0msample_weight\u001b[0m\u001b[0;34m)\u001b[0m\u001b[0;34m\u001b[0m\u001b[0;34m\u001b[0m\u001b[0m\n\u001b[0m\u001b[1;32m     77\u001b[0m \u001b[0;34m\u001b[0m\u001b[0m\n\u001b[1;32m     78\u001b[0m     \u001b[0mcheck_consistent_length\u001b[0m\u001b[0;34m(\u001b[0m\u001b[0my_true\u001b[0m\u001b[0;34m,\u001b[0m \u001b[0my_score\u001b[0m\u001b[0;34m,\u001b[0m \u001b[0msample_weight\u001b[0m\u001b[0;34m)\u001b[0m\u001b[0;34m\u001b[0m\u001b[0;34m\u001b[0m\u001b[0m\n",
      "\u001b[0;32m~/anaconda3/lib/python3.7/site-packages/sklearn/metrics/ranking.py\u001b[0m in \u001b[0;36m_binary_roc_auc_score\u001b[0;34m(y_true, y_score, sample_weight)\u001b[0m\n\u001b[1;32m    325\u001b[0m \u001b[0;34m\u001b[0m\u001b[0m\n\u001b[1;32m    326\u001b[0m         fpr, tpr, _ = roc_curve(y_true, y_score,\n\u001b[0;32m--> 327\u001b[0;31m                                 sample_weight=sample_weight)\n\u001b[0m\u001b[1;32m    328\u001b[0m         \u001b[0;32mif\u001b[0m \u001b[0mmax_fpr\u001b[0m \u001b[0;32mis\u001b[0m \u001b[0;32mNone\u001b[0m \u001b[0;32mor\u001b[0m \u001b[0mmax_fpr\u001b[0m \u001b[0;34m==\u001b[0m \u001b[0;36m1\u001b[0m\u001b[0;34m:\u001b[0m\u001b[0;34m\u001b[0m\u001b[0;34m\u001b[0m\u001b[0m\n\u001b[1;32m    329\u001b[0m             \u001b[0;32mreturn\u001b[0m \u001b[0mauc\u001b[0m\u001b[0;34m(\u001b[0m\u001b[0mfpr\u001b[0m\u001b[0;34m,\u001b[0m \u001b[0mtpr\u001b[0m\u001b[0;34m)\u001b[0m\u001b[0;34m\u001b[0m\u001b[0;34m\u001b[0m\u001b[0m\n",
      "\u001b[0;32m~/anaconda3/lib/python3.7/site-packages/sklearn/metrics/ranking.py\u001b[0m in \u001b[0;36mroc_curve\u001b[0;34m(y_true, y_score, pos_label, sample_weight, drop_intermediate)\u001b[0m\n\u001b[1;32m    620\u001b[0m     \"\"\"\n\u001b[1;32m    621\u001b[0m     fps, tps, thresholds = _binary_clf_curve(\n\u001b[0;32m--> 622\u001b[0;31m         y_true, y_score, pos_label=pos_label, sample_weight=sample_weight)\n\u001b[0m\u001b[1;32m    623\u001b[0m \u001b[0;34m\u001b[0m\u001b[0m\n\u001b[1;32m    624\u001b[0m     \u001b[0;31m# Attempt to drop thresholds corresponding to points in between and\u001b[0m\u001b[0;34m\u001b[0m\u001b[0;34m\u001b[0m\u001b[0;34m\u001b[0m\u001b[0m\n",
      "\u001b[0;32m~/anaconda3/lib/python3.7/site-packages/sklearn/metrics/ranking.py\u001b[0m in \u001b[0;36m_binary_clf_curve\u001b[0;34m(y_true, y_score, pos_label, sample_weight)\u001b[0m\n\u001b[1;32m    442\u001b[0m         \u001b[0mfps\u001b[0m \u001b[0;34m=\u001b[0m \u001b[0mstable_cumsum\u001b[0m\u001b[0;34m(\u001b[0m\u001b[0;34m(\u001b[0m\u001b[0;36m1\u001b[0m \u001b[0;34m-\u001b[0m \u001b[0my_true\u001b[0m\u001b[0;34m)\u001b[0m \u001b[0;34m*\u001b[0m \u001b[0mweight\u001b[0m\u001b[0;34m)\u001b[0m\u001b[0;34m[\u001b[0m\u001b[0mthreshold_idxs\u001b[0m\u001b[0;34m]\u001b[0m\u001b[0;34m\u001b[0m\u001b[0;34m\u001b[0m\u001b[0m\n\u001b[1;32m    443\u001b[0m     \u001b[0;32melse\u001b[0m\u001b[0;34m:\u001b[0m\u001b[0;34m\u001b[0m\u001b[0;34m\u001b[0m\u001b[0m\n\u001b[0;32m--> 444\u001b[0;31m         \u001b[0mfps\u001b[0m \u001b[0;34m=\u001b[0m \u001b[0;36m1\u001b[0m \u001b[0;34m+\u001b[0m \u001b[0mthreshold_idxs\u001b[0m \u001b[0;34m-\u001b[0m \u001b[0mtps\u001b[0m\u001b[0;34m\u001b[0m\u001b[0;34m\u001b[0m\u001b[0m\n\u001b[0m\u001b[1;32m    445\u001b[0m     \u001b[0;32mreturn\u001b[0m \u001b[0mfps\u001b[0m\u001b[0;34m,\u001b[0m \u001b[0mtps\u001b[0m\u001b[0;34m,\u001b[0m \u001b[0my_score\u001b[0m\u001b[0;34m[\u001b[0m\u001b[0mthreshold_idxs\u001b[0m\u001b[0;34m]\u001b[0m\u001b[0;34m\u001b[0m\u001b[0;34m\u001b[0m\u001b[0m\n\u001b[1;32m    446\u001b[0m \u001b[0;34m\u001b[0m\u001b[0m\n",
      "\u001b[0;31mKeyboardInterrupt\u001b[0m: "
     ]
    }
   ],
   "source": [
    "losses = []\n",
    "aucs = []\n",
    "pruned = []\n",
    "for i in range(100):\n",
    "    threshold = arr[int(arr.shape[0]*i/100)]\n",
    "    dnis.feature_embeddings.weight.data = embedding_checkpoint.clone().detach()\n",
    "    dnis.feature_embeddings.weight.data[dnis.feature_embeddings.weight.data.abs()<threshold]=0\n",
    "    loss, auc = val(dnis,test_dataloader)\n",
    "    print(f\"pruned: {i}%, loss: {loss}, auc: {auc}\")\n",
    "    losses+=[loss]\n",
    "    aucs+=[auc]\n",
    "    pruned+=[i]"
   ]
  },
  {
   "cell_type": "code",
   "execution_count": 21,
   "metadata": {},
   "outputs": [],
   "source": [
    "import seaborn as sns\n",
    "sns.set()"
   ]
  },
  {
   "cell_type": "code",
   "execution_count": 27,
   "metadata": {},
   "outputs": [
    {
     "data": {
      "text/plain": [
       "<matplotlib.axes._subplots.AxesSubplot at 0x7ff7a2877710>"
      ]
     },
     "execution_count": 27,
     "metadata": {},
     "output_type": "execute_result"
    },
    {
     "data": {
      "image/png": "[encoded data removed]",
      "text/plain": [
       "<Figure size 432x288 with 1 Axes>"
      ]
     },
     "metadata": {
      "needs_background": "light"
     },
     "output_type": "display_data"
    }
   ],
   "source": [
    "sns.lineplot(x=pruned,y=aucs)"
   ]
  },
  {
   "cell_type": "code",
   "execution_count": 28,
   "metadata": {},
   "outputs": [
    {
     "data": {
      "text/plain": [
       "<matplotlib.axes._subplots.AxesSubplot at 0x7ff7a2687208>"
      ]
     },
     "execution_count": 28,
     "metadata": {},
     "output_type": "execute_result"
    },
    {
     "data": {
      "image/png": "[encoded data removed]",
      "text/plain": [
       "<Figure size 432x288 with 1 Axes>"
      ]
     },
     "metadata": {
      "needs_background": "light"
     },
     "output_type": "display_data"
    }
   ],
   "source": [
    "sns.lineplot(x=pruned,y=losses)"
   ]
  },
  {
   "cell_type": "code",
   "execution_count": 16,
   "metadata": {},
   "outputs": [
    {
     "data": {
      "text/plain": [
       "0.115246296"
      ]
     },
     "execution_count": 16,
     "metadata": {},
     "output_type": "execute_result"
    }
   ],
   "source": [
    "arr[int(arr.shape[0]//10*8)]"
   ]
  },
  {
   "cell_type": "code",
   "execution_count": 17,
   "metadata": {},
   "outputs": [],
   "source": [
    "dnis.feature_embeddings.weight.data = embedding_checkpoint.clone().detach()\n",
    "dnis.feature_embeddings.weight.data[dnis.feature_embeddings.weight.data.abs()<0.115246296]=0"
   ]
  },
  {
   "cell_type": "code",
   "execution_count": 18,
   "metadata": {},
   "outputs": [
    {
     "data": {
      "application/vnd.jupyter.widget-view+json": {
       "model_id": "0db147b36acc468686395676676d86da",
       "version_major": 2,
       "version_minor": 0
      },
      "text/plain": [
       "HBox(children=(IntProgress(value=1, bar_style='info', max=1), HTML(value='')))"
      ]
     },
     "metadata": {},
     "output_type": "display_data"
    },
    {
     "name": "stdout",
     "output_type": "stream",
     "text": [
      "\n"
     ]
    },
    {
     "data": {
      "text/plain": [
       "(0.4548419702798128, 0.7977083346645263)"
      ]
     },
     "execution_count": 18,
     "metadata": {},
     "output_type": "execute_result"
    }
   ],
   "source": [
    "val(dnis,test_dataloader)"
   ]
  },
  {
   "cell_type": "code",
   "execution_count": 31,
   "metadata": {},
   "outputs": [],
   "source": [
    "from scipy.sparse import coo_matrix, save_npz, load_npz\n",
    "scipy_sparse = coo_matrix(embedding_checkpoint.cpu())\n",
    "save_npz(\"backup/origin_matrix\",scipy_sparse,True)"
   ]
  },
  {
   "cell_type": "code",
   "execution_count": 71,
   "metadata": {},
   "outputs": [],
   "source": [
    "scipy_sparse = coo_matrix(dnis.feature_embeddings.weight.data.cpu())\n",
    "save_npz(\"backup/CP_50\",scipy_sparse,True)"
   ]
  },
  {
   "cell_type": "code",
   "execution_count": 72,
   "metadata": {},
   "outputs": [
    {
     "name": "stdout",
     "output_type": "stream",
     "text": [
      "total 1.5G\n",
      "-rw-rw-r-- 1 chengweiyu chengweiyu  44M Oct 30 16:27 'Baseline- FM.tar'\n",
      "-rw-rw-r-- 1 chengweiyu chengweiyu 1.7M Dec 11 19:07  baseline.log\n",
      "-rw-rw-r-- 1 chengweiyu chengweiyu  55M Jan 13 14:18  CP_10.npz\n",
      "-rw-rw-r-- 1 chengweiyu chengweiyu  26M Jan 13 14:21  CP_20.npz\n",
      "-rw-rw-r-- 1 chengweiyu chengweiyu  17M Jan 13 13:53  CP_25.npz\n",
      "-rw-rw-r-- 1 chengweiyu chengweiyu 261M Jan 13 14:10  CP_2.npz\n",
      "-rw-rw-r-- 1 chengweiyu chengweiyu  17M Jan 13 14:24  CP_30.npz\n",
      "-rw-rw-r-- 1 chengweiyu chengweiyu  11M Jan 13 14:29  CP_50.npz\n",
      "-rw-rw-r-- 1 chengweiyu chengweiyu 107M Jan 13 14:15  CP_5.npz\n",
      "-rw-rw-r-- 1 chengweiyu chengweiyu  17K Dec 17 14:52  dense_matrix.npz\n",
      "-rw-rw-r-- 1 chengweiyu chengweiyu  17K Dec 17 14:52  dense_matrix.pth\n",
      "-rw-rw-r-- 1 chengweiyu chengweiyu  39M Jan  3 12:41  DNIS-CF.tar\n",
      "-rw-rw-r-- 1 chengweiyu chengweiyu  49K Oct 28 14:01  dnis-checkpoint.ipynb\n",
      "-rw-rw-r-- 1 chengweiyu chengweiyu  40K Oct 15 10:52  dnis-cpu.ipynb\n",
      "-rw-rw-r-- 1 chengweiyu chengweiyu  44K Dec 31 16:25  log1.txt\n",
      "-rw-rw-r-- 1 chengweiyu chengweiyu  39M Dec 17 12:41  log_block1.txt\n",
      "-rw-rw-r-- 1 chengweiyu chengweiyu 1.3K Dec 18 14:59  log_block.txt\n",
      "-rw-rw-r-- 1 chengweiyu chengweiyu 332K Jan  8 15:36  log_CIN.txt\n",
      "-rw-rw-r-- 1 chengweiyu chengweiyu  49M Jan  2 19:01  log_DNIS-CF-gradnorm.txt\n",
      "-rw-rw-r-- 1 chengweiyu chengweiyu  43M Jan  2 17:23  log_DNIS-CF.txt\n",
      "-rw-rw-r-- 1 chengweiyu chengweiyu 6.4K Jan  8 20:07  log_dnis_ctr_xdeep.txt\n",
      "-rw-rw-r-- 1 chengweiyu chengweiyu  29M Jan  3 19:13  log_dnis_load.txt\n",
      "-rw-rw-r-- 1 chengweiyu chengweiyu  25M Jan  6 18:07  log_dnis_mlp1.txt\n",
      "-rw-rw-r-- 1 chengweiyu chengweiyu  28M Jan  7 16:28  log_dnis_mlp.txt\n",
      "-rw-rw-r-- 1 chengweiyu chengweiyu  20M Jan  7 16:35  log_dnis_neumf.txt\n",
      "-rw-rw-r-- 1 chengweiyu chengweiyu 1.6K Jan  7 13:41  log_dnis_warm1.txt\n",
      "-rw-rw-r-- 1 chengweiyu chengweiyu 436K Jan  7 13:57  log_dnis_warm2.txt\n",
      "-rw-rw-r-- 1 chengweiyu chengweiyu 5.3K Jan  7 14:34  log_dnis_warm.txt\n",
      "-rw-rw-r-- 1 chengweiyu chengweiyu 1.4K Jan  9 14:35  log_dnis_xdeep2.txt\n",
      "-rw-rw-r-- 1 chengweiyu chengweiyu  13M Jan  1 06:40  log_GS-SE-CF.txt\n",
      "-rw-rw-r-- 1 chengweiyu chengweiyu 657K Jan  7 20:32  log_GSSE-deepfm.txt\n",
      "-rw-rw-r-- 1 chengweiyu chengweiyu  16M Jan  8 23:04  log_GSSE-fm_deepfm1.txt\n",
      "-rw-rw-r-- 1 chengweiyu chengweiyu 3.0M Jan  8 00:25  log_GSSE-fm_deepfm.txt\n",
      "-rw-rw-r-- 1 chengweiyu chengweiyu 308K Jan  7 13:21  log_GSSE-mlp.txt\n",
      "-rw-rw-r-- 1 chengweiyu chengweiyu 717K Jan  3 16:14  log_GSSE-newinitial.txt\n",
      "-rw-rw-r-- 1 chengweiyu chengweiyu 3.1K Jan  9 14:09  log_GSSE-xdeep1.txt\n",
      "-rw-rw-r-- 1 chengweiyu chengweiyu 7.0M Jan  9 02:10  log_GSSE-xdeep.txt\n",
      "-rw-rw-r-- 1 chengweiyu chengweiyu 435K Jan  9 18:09  log_rs_mf.txt\n",
      "-rw-rw-r-- 1 chengweiyu chengweiyu  60K Dec 31 16:32  log.txt\n",
      "-rw-rw-r-- 1 chengweiyu chengweiyu 577K Jan  8 16:27  log_xDeepFM.txt\n",
      "-rw-rw-r-- 1 chengweiyu chengweiyu 5.6K Oct  8 14:56  main.backup.py\n",
      "-rw------- 1 chengweiyu chengweiyu  51M Sep 27 03:03  nohup.out\n",
      "-rw-rw-r-- 1 chengweiyu chengweiyu  33M Jan 10 15:42 'origin>0.1.npz'\n",
      "-rw-rw-r-- 1 chengweiyu chengweiyu  29M Jan 10 15:43 'origin>0.2.npz'\n",
      "-rw-rw-r-- 1 chengweiyu chengweiyu  21M Jan 10 16:00 'origin>0.4.npz'\n",
      "-rw-rw-r-- 1 chengweiyu chengweiyu  17M Jan 10 16:04 'origin>0.512.npz'\n",
      "-rw-rw-r-- 1 chengweiyu chengweiyu  17M Jan 10 16:14 'origin<0.5.npz'\n",
      "-rw-rw-r-- 1 chengweiyu chengweiyu  26M Jan  2 17:24 'origin>0.5.npz'\n",
      "-rw-rw-r-- 1 chengweiyu chengweiyu  13M Jan 10 16:07 'origin>0.6698.npz'\n",
      "-rw-rw-r-- 1 chengweiyu chengweiyu 8.6M Jan 10 16:01 'origin>0.877.npz'\n",
      "-rw-rw-r-- 1 chengweiyu chengweiyu 7.7M Jan  3 14:42 'origin>1.npz'\n",
      "-rw-rw-r-- 1 chengweiyu chengweiyu 441M Jan 13 14:07  origin_matrix.npz\n",
      "-rw-rw-r-- 1 chengweiyu chengweiyu  15K Dec 17 14:52  sparse_matrix.npz\n",
      "-rw-rw-r-- 1 chengweiyu chengweiyu  41K Dec 17 14:38  sparse_matrix.pth\n",
      "-rw-rw-r-- 1 chengweiyu chengweiyu 4.8M Oct 30 11:49  test.pth\n",
      "-rw-rw-r-- 1 chengweiyu chengweiyu  16K Jan 11 00:39  Untitled.ipynb\n",
      "-rw-rw-r-- 1 chengweiyu chengweiyu 4.8M Oct 16 17:57  warm_start_model_0.pth\n",
      "-rw-rw-r-- 1 chengweiyu chengweiyu 4.8M Oct 16 18:01  warm_start_model_1.pth\n",
      "-rw-rw-r-- 1 chengweiyu chengweiyu 4.8M Oct 16 18:04  warm_start_model_2.pth\n",
      "-rw-rw-r-- 1 chengweiyu chengweiyu 4.8M Oct 16 18:08  warm_start_model_3.pth\n"
     ]
    }
   ],
   "source": [
    "!ls -lh backup"
   ]
  },
  {
   "cell_type": "code",
   "execution_count": 29,
   "metadata": {},
   "outputs": [],
   "source": [
    "embedding_array = dnis.feature_embeddings.weight.data.cpu().numpy()"
   ]
  },
  {
   "cell_type": "code",
   "execution_count": 31,
   "metadata": {},
   "outputs": [],
   "source": [
    "embedding_array = embedding_array.flatten()"
   ]
  },
  {
   "cell_type": "code",
   "execution_count": 33,
   "metadata": {},
   "outputs": [],
   "source": [
    "import seaborn as sns\n",
    "sns.set()"
   ]
  },
  {
   "cell_type": "code",
   "execution_count": 34,
   "metadata": {},
   "outputs": [
    {
     "data": {
      "text/plain": [
       "<matplotlib.axes._subplots.AxesSubplot at 0x7fdae8001198>"
      ]
     },
     "execution_count": 34,
     "metadata": {},
     "output_type": "execute_result"
    },
    {
     "data": {
      "image/png": "[encoded data removed]",
      "text/plain": [
       "<Figure size 432x288 with 1 Axes>"
      ]
     },
     "metadata": {
      "needs_background": "light"
     },
     "output_type": "display_data"
    }
   ],
   "source": [
    "sns.distplot(embedding_array)"
   ]
  },
  {
   "cell_type": "code",
   "execution_count": 51,
   "metadata": {},
   "outputs": [],
   "source": [
    "dnis.alpha.requires_grad=False\n",
    "dnis.alpha.data=alpha_checkpoint.clone().detach()"
   ]
  },
  {
   "cell_type": "code",
   "execution_count": 52,
   "metadata": {},
   "outputs": [
    {
     "name": "stdout",
     "output_type": "stream",
     "text": [
      "Test loss: 0.6178560526278175.\n",
      "Test loss: 0.6178571033428927.\n",
      "Test loss: 0.6182456867250262.\n",
      "Test loss: 0.6185572773950999.\n",
      "Test loss: 0.6190692593084007.\n",
      "Test loss: 0.6197725782384638.\n",
      "Test loss: 0.6204441453589767.\n",
      "Test loss: 0.621293375176973.\n",
      "Test loss: 0.6223441124817387.\n",
      "Test loss: 0.6238610539890703.\n",
      "Test loss: 0.6251011667315101.\n",
      "Test loss: 0.6262590775235755.\n",
      "Test loss: 0.6283504482297624.\n",
      "Test loss: 0.630178590473093.\n",
      "Test loss: 0.6325625941523763.\n",
      "Test loss: 0.6353224724775455.\n",
      "Test loss: 0.6396649166575221.\n",
      "Test loss: 0.6422665800105353.\n",
      "Test loss: 0.646733640586255.\n",
      "Test loss: 0.6506790181041741.\n",
      "Test loss: 0.6560256895838213.\n",
      "Test loss: 0.6615092542449958.\n",
      "Test loss: 0.6712831889630341.\n",
      "Test loss: 0.6763216879402028.\n",
      "Test loss: 0.6791450395325168.\n",
      "Test loss: 0.6897134868825068.\n",
      "Test loss: 0.6940156576208404.\n",
      "Test loss: 0.698728197605395.\n",
      "Test loss: 0.7042710937437464.\n",
      "Test loss: 0.7096294710015665.\n",
      "Test loss: 0.7187213221045791.\n",
      "Test loss: 0.7455090534735899.\n",
      "Test loss: 0.7728958550657405.\n",
      "Test loss: 1.8820075365852138.\n",
      "Test loss: 3.938611405306175.\n",
      "Test loss: 4.715943722451319.\n",
      "Test loss: 9.230890580865204.\n",
      "Test loss: 13.527586533397924.\n"
     ]
    }
   ],
   "source": [
    "result=[]\n",
    "thresholds = alpha_checkpoint.view(-1).sort().values[2:]\n",
    "for threshold in thresholds:\n",
    "    dnis.alpha[dnis.alpha<=threshold.item()]=0\n",
    "    test_loss = test(dnis, test_dataloader)\n",
    "    result+=[[threshold.item(), test_loss]]"
   ]
  },
  {
   "cell_type": "code",
   "execution_count": 84,
   "metadata": {},
   "outputs": [],
   "source": [
    "import seaborn as sns\n",
    "import pandas as pd\n",
    "sns.set()"
   ]
  },
  {
   "cell_type": "code",
   "execution_count": 71,
   "metadata": {},
   "outputs": [],
   "source": [
    "result = [[37-i,t,e]for i, (t, e) in enumerate(result)]"
   ]
  },
  {
   "cell_type": "code",
   "execution_count": 73,
   "metadata": {},
   "outputs": [
    {
     "data": {
      "text/html": [
       "<div>\n",
       "<style scoped>\n",
       "    .dataframe tbody tr th:only-of-type {\n",
       "        vertical-align: middle;\n",
       "    }\n",
       "\n",
       "    .dataframe tbody tr th {\n",
       "        vertical-align: top;\n",
       "    }\n",
       "\n",
       "    .dataframe thead th {\n",
       "        text-align: right;\n",
       "    }\n",
       "</style>\n",
       "<table border=\"1\" class=\"dataframe\">\n",
       "  <thead>\n",
       "    <tr style=\"text-align: right;\">\n",
       "      <th></th>\n",
       "      <th>num_of_units</th>\n",
       "      <th>threshold</th>\n",
       "      <th>MSE</th>\n",
       "    </tr>\n",
       "  </thead>\n",
       "  <tbody>\n",
       "    <tr>\n",
       "      <th>0</th>\n",
       "      <td>37</td>\n",
       "      <td>0.000089</td>\n",
       "      <td>0.617856</td>\n",
       "    </tr>\n",
       "    <tr>\n",
       "      <th>1</th>\n",
       "      <td>36</td>\n",
       "      <td>0.000131</td>\n",
       "      <td>0.617857</td>\n",
       "    </tr>\n",
       "    <tr>\n",
       "      <th>2</th>\n",
       "      <td>35</td>\n",
       "      <td>0.019953</td>\n",
       "      <td>0.618246</td>\n",
       "    </tr>\n",
       "    <tr>\n",
       "      <th>3</th>\n",
       "      <td>34</td>\n",
       "      <td>0.022169</td>\n",
       "      <td>0.618557</td>\n",
       "    </tr>\n",
       "    <tr>\n",
       "      <th>4</th>\n",
       "      <td>33</td>\n",
       "      <td>0.025106</td>\n",
       "      <td>0.619069</td>\n",
       "    </tr>\n",
       "    <tr>\n",
       "      <th>5</th>\n",
       "      <td>32</td>\n",
       "      <td>0.025827</td>\n",
       "      <td>0.619773</td>\n",
       "    </tr>\n",
       "    <tr>\n",
       "      <th>6</th>\n",
       "      <td>31</td>\n",
       "      <td>0.026152</td>\n",
       "      <td>0.620444</td>\n",
       "    </tr>\n",
       "    <tr>\n",
       "      <th>7</th>\n",
       "      <td>30</td>\n",
       "      <td>0.030617</td>\n",
       "      <td>0.621293</td>\n",
       "    </tr>\n",
       "    <tr>\n",
       "      <th>8</th>\n",
       "      <td>29</td>\n",
       "      <td>0.031363</td>\n",
       "      <td>0.622344</td>\n",
       "    </tr>\n",
       "    <tr>\n",
       "      <th>9</th>\n",
       "      <td>28</td>\n",
       "      <td>0.033057</td>\n",
       "      <td>0.623861</td>\n",
       "    </tr>\n",
       "    <tr>\n",
       "      <th>10</th>\n",
       "      <td>27</td>\n",
       "      <td>0.033806</td>\n",
       "      <td>0.625101</td>\n",
       "    </tr>\n",
       "    <tr>\n",
       "      <th>11</th>\n",
       "      <td>26</td>\n",
       "      <td>0.034031</td>\n",
       "      <td>0.626259</td>\n",
       "    </tr>\n",
       "    <tr>\n",
       "      <th>12</th>\n",
       "      <td>25</td>\n",
       "      <td>0.037911</td>\n",
       "      <td>0.628350</td>\n",
       "    </tr>\n",
       "    <tr>\n",
       "      <th>13</th>\n",
       "      <td>24</td>\n",
       "      <td>0.040253</td>\n",
       "      <td>0.630179</td>\n",
       "    </tr>\n",
       "    <tr>\n",
       "      <th>14</th>\n",
       "      <td>23</td>\n",
       "      <td>0.041336</td>\n",
       "      <td>0.632563</td>\n",
       "    </tr>\n",
       "    <tr>\n",
       "      <th>15</th>\n",
       "      <td>22</td>\n",
       "      <td>0.045274</td>\n",
       "      <td>0.635322</td>\n",
       "    </tr>\n",
       "    <tr>\n",
       "      <th>16</th>\n",
       "      <td>21</td>\n",
       "      <td>0.046186</td>\n",
       "      <td>0.639665</td>\n",
       "    </tr>\n",
       "    <tr>\n",
       "      <th>17</th>\n",
       "      <td>20</td>\n",
       "      <td>0.047689</td>\n",
       "      <td>0.642267</td>\n",
       "    </tr>\n",
       "    <tr>\n",
       "      <th>18</th>\n",
       "      <td>19</td>\n",
       "      <td>0.048323</td>\n",
       "      <td>0.646734</td>\n",
       "    </tr>\n",
       "    <tr>\n",
       "      <th>19</th>\n",
       "      <td>18</td>\n",
       "      <td>0.049247</td>\n",
       "      <td>0.650679</td>\n",
       "    </tr>\n",
       "    <tr>\n",
       "      <th>20</th>\n",
       "      <td>17</td>\n",
       "      <td>0.054390</td>\n",
       "      <td>0.656026</td>\n",
       "    </tr>\n",
       "    <tr>\n",
       "      <th>21</th>\n",
       "      <td>16</td>\n",
       "      <td>0.055817</td>\n",
       "      <td>0.661509</td>\n",
       "    </tr>\n",
       "    <tr>\n",
       "      <th>22</th>\n",
       "      <td>15</td>\n",
       "      <td>0.057413</td>\n",
       "      <td>0.671283</td>\n",
       "    </tr>\n",
       "    <tr>\n",
       "      <th>23</th>\n",
       "      <td>14</td>\n",
       "      <td>0.059297</td>\n",
       "      <td>0.676322</td>\n",
       "    </tr>\n",
       "    <tr>\n",
       "      <th>24</th>\n",
       "      <td>13</td>\n",
       "      <td>0.063540</td>\n",
       "      <td>0.679145</td>\n",
       "    </tr>\n",
       "    <tr>\n",
       "      <th>25</th>\n",
       "      <td>12</td>\n",
       "      <td>0.068241</td>\n",
       "      <td>0.689713</td>\n",
       "    </tr>\n",
       "    <tr>\n",
       "      <th>26</th>\n",
       "      <td>11</td>\n",
       "      <td>0.070401</td>\n",
       "      <td>0.694016</td>\n",
       "    </tr>\n",
       "    <tr>\n",
       "      <th>27</th>\n",
       "      <td>10</td>\n",
       "      <td>0.073051</td>\n",
       "      <td>0.698728</td>\n",
       "    </tr>\n",
       "    <tr>\n",
       "      <th>28</th>\n",
       "      <td>9</td>\n",
       "      <td>0.080208</td>\n",
       "      <td>0.704271</td>\n",
       "    </tr>\n",
       "    <tr>\n",
       "      <th>29</th>\n",
       "      <td>8</td>\n",
       "      <td>0.082441</td>\n",
       "      <td>0.709629</td>\n",
       "    </tr>\n",
       "    <tr>\n",
       "      <th>30</th>\n",
       "      <td>7</td>\n",
       "      <td>0.086457</td>\n",
       "      <td>0.718721</td>\n",
       "    </tr>\n",
       "    <tr>\n",
       "      <th>31</th>\n",
       "      <td>6</td>\n",
       "      <td>0.091195</td>\n",
       "      <td>0.745509</td>\n",
       "    </tr>\n",
       "    <tr>\n",
       "      <th>32</th>\n",
       "      <td>5</td>\n",
       "      <td>0.119563</td>\n",
       "      <td>0.772896</td>\n",
       "    </tr>\n",
       "  </tbody>\n",
       "</table>\n",
       "</div>"
      ],
      "text/plain": [
       "    num_of_units  threshold       MSE\n",
       "0             37   0.000089  0.617856\n",
       "1             36   0.000131  0.617857\n",
       "2             35   0.019953  0.618246\n",
       "3             34   0.022169  0.618557\n",
       "4             33   0.025106  0.619069\n",
       "5             32   0.025827  0.619773\n",
       "6             31   0.026152  0.620444\n",
       "7             30   0.030617  0.621293\n",
       "8             29   0.031363  0.622344\n",
       "9             28   0.033057  0.623861\n",
       "10            27   0.033806  0.625101\n",
       "11            26   0.034031  0.626259\n",
       "12            25   0.037911  0.628350\n",
       "13            24   0.040253  0.630179\n",
       "14            23   0.041336  0.632563\n",
       "15            22   0.045274  0.635322\n",
       "16            21   0.046186  0.639665\n",
       "17            20   0.047689  0.642267\n",
       "18            19   0.048323  0.646734\n",
       "19            18   0.049247  0.650679\n",
       "20            17   0.054390  0.656026\n",
       "21            16   0.055817  0.661509\n",
       "22            15   0.057413  0.671283\n",
       "23            14   0.059297  0.676322\n",
       "24            13   0.063540  0.679145\n",
       "25            12   0.068241  0.689713\n",
       "26            11   0.070401  0.694016\n",
       "27            10   0.073051  0.698728\n",
       "28             9   0.080208  0.704271\n",
       "29             8   0.082441  0.709629\n",
       "30             7   0.086457  0.718721\n",
       "31             6   0.091195  0.745509\n",
       "32             5   0.119563  0.772896"
      ]
     },
     "execution_count": 73,
     "metadata": {},
     "output_type": "execute_result"
    }
   ],
   "source": [
    "pd.DataFrame(result,columns=[\"num_of_units\",\"threshold\",\"MSE\"]).iloc[:-5]"
   ]
  },
  {
   "cell_type": "code",
   "execution_count": 85,
   "metadata": {},
   "outputs": [
    {
     "data": {
      "text/plain": [
       "<matplotlib.axes._subplots.AxesSubplot at 0x7f0d1e0ae780>"
      ]
     },
     "execution_count": 85,
     "metadata": {},
     "output_type": "execute_result"
    },
    {
     "data": {
      "image/png": "[encoded data removed]",
      "text/plain": [
       "<Figure size 432x288 with 1 Axes>"
      ]
     },
     "metadata": {},
     "output_type": "display_data"
    }
   ],
   "source": [
    "sns.lineplot(x=\"threshold\", y=\"MSE\", data=pd.DataFrame(result,columns=[\"num_of_units\",\"threshold\",\"MSE\"]).iloc[:-5])"
   ]
  },
  {
   "cell_type": "code",
   "execution_count": 86,
   "metadata": {},
   "outputs": [
    {
     "data": {
      "text/plain": [
       "<matplotlib.axes._subplots.AxesSubplot at 0x7f0d1e06b9b0>"
      ]
     },
     "execution_count": 86,
     "metadata": {},
     "output_type": "execute_result"
    },
    {
     "data": {
      "image/png": "[encoded data removed]",
      "text/plain": [
       "<Figure size 432x288 with 1 Axes>"
      ]
     },
     "metadata": {},
     "output_type": "display_data"
    }
   ],
   "source": [
    "sns.lineplot(x=\"num_of_units\", y=\"MSE\", data=pd.DataFrame(result,columns=[\"num_of_units\",\"threshold\",\"MSE\"]).iloc[:-5])"
   ]
  },
  {
   "cell_type": "code",
   "execution_count": 87,
   "metadata": {},
   "outputs": [
    {
     "data": {
      "text/plain": [
       "<matplotlib.axes._subplots.AxesSubplot at 0x7f0d1e037048>"
      ]
     },
     "execution_count": 87,
     "metadata": {},
     "output_type": "execute_result"
    },
    {
     "data": {
      "image/png": "[encoded data removed]",
      "text/plain": [
       "<Figure size 432x288 with 1 Axes>"
      ]
     },
     "metadata": {},
     "output_type": "display_data"
    }
   ],
   "source": [
    "sns.lineplot(x=\"threshold\", y=\"num_of_units\", data=pd.DataFrame(result,columns=[\"num_of_units\",\"threshold\",\"MSE\"]).iloc[:-5])"
   ]
  },
  {
   "cell_type": "code",
   "execution_count": 88,
   "metadata": {},
   "outputs": [
    {
     "data": {
      "text/plain": [
       "<seaborn.axisgrid.PairGrid at 0x7f0d107ef7f0>"
      ]
     },
     "execution_count": 88,
     "metadata": {},
     "output_type": "execute_result"
    },
    {
     "data": {
      "image/png": "[encoded data removed]",
      "text/plain": [
       "<Figure size 540x540 with 12 Axes>"
      ]
     },
     "metadata": {},
     "output_type": "display_data"
    }
   ],
   "source": [
    "sns.pairplot(data=pd.DataFrame(result,columns=[\"num_of_units\",\"threshold\",\"MSE\"]).iloc[:-5])"
   ]
  },
  {
   "cell_type": "code",
   "execution_count": null,
   "metadata": {},
   "outputs": [],
   "source": []
  }
 ],
 "metadata": {
  "kernelspec": {
   "display_name": "Python 3",
   "language": "python",
   "name": "python3"
  },
  "language_info": {
   "codemirror_mode": {
    "name": "ipython",
    "version": 3
   },
   "file_extension": ".py",
   "mimetype": "text/x-python",
   "name": "python",
   "nbconvert_exporter": "python",
   "pygments_lexer": "ipython3",
   "version": "3.7.3"
  }
 },
 "nbformat": 4,
 "nbformat_minor": 4
}
