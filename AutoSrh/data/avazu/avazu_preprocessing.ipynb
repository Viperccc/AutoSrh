{
 "cells": [
  {
   "cell_type": "code",
   "execution_count": 82,
   "id": "e866cbf0",
   "metadata": {},
   "outputs": [],
   "source": [
    "import pandas as pd\n",
    "import operator\n",
    "import torch\n",
    "from torch.utils.data import Dataset\n",
    "import numpy as np\n",
    "\n",
    "def extract_id(row):\n",
    "    return np.int32(row.split(\":\")[0])\n",
    "\n",
    "def extract_value(row):\n",
    "    return np.float32(row.split(\":\")[1])\n",
    "\n",
    "class CTR_Dataset(Dataset):\n",
    "    def __init__(self, id_df, value_df):\n",
    "        self.x_id = torch.LongTensor(np.array(id_df.drop(columns=['rating'])))\n",
    "        self.y = torch.Tensor(np.array(id_df['rating']))\n",
    "        self.x_value = torch.Tensor(np.array(value_df))\n",
    "\n",
    "    def __getitem__(self, idx):\n",
    "        return self.x_id[idx], self.x_value[idx], self.y[idx]\n",
    "\n",
    "    def __len__(self):\n",
    "        return len(self.x_id)"
   ]
  },
  {
   "cell_type": "code",
   "execution_count": 83,
   "id": "9f48dd07",
   "metadata": {},
   "outputs": [
    {
     "name": "stdout",
     "output_type": "stream",
     "text": [
      "Extracting feature id and feature value...\n",
      "             id  click      hour    C1  banner_pos   site_id site_domain  \\\n",
      "0  1.000009e+18      0  14102100  1005           0  1fbe01fe    f3845767   \n",
      "1  1.000017e+19      0  14102100  1005           0  1fbe01fe    f3845767   \n",
      "2  1.000037e+19      0  14102100  1005           0  1fbe01fe    f3845767   \n",
      "3  1.000064e+19      0  14102100  1005           0  1fbe01fe    f3845767   \n",
      "4  1.000068e+19      0  14102100  1005           1  fe8cc448    9166c161   \n",
      "5  1.000072e+19      0  14102100  1005           0  d6137915    bb1ef334   \n",
      "6  1.000072e+19      0  14102100  1005           0  8fda644b    25d4cfcd   \n",
      "7  1.000092e+19      0  14102100  1005           1  e151e245    7e091613   \n",
      "8  1.000095e+19      1  14102100  1005           0  1fbe01fe    f3845767   \n",
      "9  1.000126e+19      0  14102100  1002           0  84c7ba46    c4e18dd6   \n",
      "\n",
      "  site_category    app_id app_domain  ... device_type device_conn_type    C14  \\\n",
      "0      28905ebd  ecad2386   7801e8d9  ...           1                2  15706   \n",
      "1      28905ebd  ecad2386   7801e8d9  ...           1                0  15704   \n",
      "2      28905ebd  ecad2386   7801e8d9  ...           1                0  15704   \n",
      "3      28905ebd  ecad2386   7801e8d9  ...           1                0  15706   \n",
      "4      0569f928  ecad2386   7801e8d9  ...           1                0  18993   \n",
      "5      f028772b  ecad2386   7801e8d9  ...           1                0  16920   \n",
      "6      f028772b  ecad2386   7801e8d9  ...           1                0  20362   \n",
      "7      f028772b  ecad2386   7801e8d9  ...           1                0  20632   \n",
      "8      28905ebd  ecad2386   7801e8d9  ...           1                2  15707   \n",
      "9      50e219e0  ecad2386   7801e8d9  ...           0                0  21689   \n",
      "\n",
      "   C15  C16   C17  C18  C19     C20  C21  \n",
      "0  320   50  1722    0   35      -1   79  \n",
      "1  320   50  1722    0   35  100084   79  \n",
      "2  320   50  1722    0   35  100084   79  \n",
      "3  320   50  1722    0   35  100084   79  \n",
      "4  320   50  2161    0   35      -1  157  \n",
      "5  320   50  1899    0  431  100077  117  \n",
      "6  320   50  2333    0   39      -1  157  \n",
      "7  320   50  2374    3   39      -1   23  \n",
      "8  320   50  1722    0   35      -1   79  \n",
      "9  320   50  2496    3  167  100191   23  \n",
      "\n",
      "[10 rows x 24 columns]\n"
     ]
    }
   ],
   "source": [
    "path = \"train.csv\"\n",
    "print(\"Extracting feature id and feature value...\")\n",
    "\n",
    "df = pd.read_csv(path)\n",
    "print(df.head(10))\n",
    "# extract feature id and feature value\n"
   ]
  },
  {
   "cell_type": "code",
   "execution_count": 84,
   "id": "0d2e3aec",
   "metadata": {},
   "outputs": [
    {
     "name": "stdout",
     "output_type": "stream",
     "text": [
      "   click            id      hour    C1  banner_pos   site_id site_domain  \\\n",
      "0      0  1.000009e+18  14102100  1005           0  1fbe01fe    f3845767   \n",
      "1      0  1.000017e+19  14102100  1005           0  1fbe01fe    f3845767   \n",
      "2      0  1.000037e+19  14102100  1005           0  1fbe01fe    f3845767   \n",
      "3      0  1.000064e+19  14102100  1005           0  1fbe01fe    f3845767   \n",
      "4      0  1.000068e+19  14102100  1005           1  fe8cc448    9166c161   \n",
      "5      0  1.000072e+19  14102100  1005           0  d6137915    bb1ef334   \n",
      "6      0  1.000072e+19  14102100  1005           0  8fda644b    25d4cfcd   \n",
      "7      0  1.000092e+19  14102100  1005           1  e151e245    7e091613   \n",
      "8      1  1.000095e+19  14102100  1005           0  1fbe01fe    f3845767   \n",
      "9      0  1.000126e+19  14102100  1002           0  84c7ba46    c4e18dd6   \n",
      "\n",
      "  site_category    app_id app_domain  ... device_type device_conn_type    C14  \\\n",
      "0      28905ebd  ecad2386   7801e8d9  ...           1                2  15706   \n",
      "1      28905ebd  ecad2386   7801e8d9  ...           1                0  15704   \n",
      "2      28905ebd  ecad2386   7801e8d9  ...           1                0  15704   \n",
      "3      28905ebd  ecad2386   7801e8d9  ...           1                0  15706   \n",
      "4      0569f928  ecad2386   7801e8d9  ...           1                0  18993   \n",
      "5      f028772b  ecad2386   7801e8d9  ...           1                0  16920   \n",
      "6      f028772b  ecad2386   7801e8d9  ...           1                0  20362   \n",
      "7      f028772b  ecad2386   7801e8d9  ...           1                0  20632   \n",
      "8      28905ebd  ecad2386   7801e8d9  ...           1                2  15707   \n",
      "9      50e219e0  ecad2386   7801e8d9  ...           0                0  21689   \n",
      "\n",
      "   C15  C16   C17  C18  C19     C20  C21  \n",
      "0  320   50  1722    0   35      -1   79  \n",
      "1  320   50  1722    0   35  100084   79  \n",
      "2  320   50  1722    0   35  100084   79  \n",
      "3  320   50  1722    0   35  100084   79  \n",
      "4  320   50  2161    0   35      -1  157  \n",
      "5  320   50  1899    0  431  100077  117  \n",
      "6  320   50  2333    0   39      -1  157  \n",
      "7  320   50  2374    3   39      -1   23  \n",
      "8  320   50  1722    0   35      -1   79  \n",
      "9  320   50  2496    3  167  100191   23  \n",
      "\n",
      "[10 rows x 24 columns]\n",
      "   column_1      column_2  column_3  column_4  column_5  column_6  column_7  \\\n",
      "0         0  1.000009e+18  14102100      1005         0  1fbe01fe  f3845767   \n",
      "1         0  1.000017e+19  14102100      1005         0  1fbe01fe  f3845767   \n",
      "2         0  1.000037e+19  14102100      1005         0  1fbe01fe  f3845767   \n",
      "3         0  1.000064e+19  14102100      1005         0  1fbe01fe  f3845767   \n",
      "4         0  1.000068e+19  14102100      1005         1  fe8cc448  9166c161   \n",
      "5         0  1.000072e+19  14102100      1005         0  d6137915  bb1ef334   \n",
      "6         0  1.000072e+19  14102100      1005         0  8fda644b  25d4cfcd   \n",
      "7         0  1.000092e+19  14102100      1005         1  e151e245  7e091613   \n",
      "8         1  1.000095e+19  14102100      1005         0  1fbe01fe  f3845767   \n",
      "9         0  1.000126e+19  14102100      1002         0  84c7ba46  c4e18dd6   \n",
      "\n",
      "   column_8  column_9 column_10  ... column_15 column_16 column_17 column_18  \\\n",
      "0  28905ebd  ecad2386  7801e8d9  ...         1         2     15706       320   \n",
      "1  28905ebd  ecad2386  7801e8d9  ...         1         0     15704       320   \n",
      "2  28905ebd  ecad2386  7801e8d9  ...         1         0     15704       320   \n",
      "3  28905ebd  ecad2386  7801e8d9  ...         1         0     15706       320   \n",
      "4  0569f928  ecad2386  7801e8d9  ...         1         0     18993       320   \n",
      "5  f028772b  ecad2386  7801e8d9  ...         1         0     16920       320   \n",
      "6  f028772b  ecad2386  7801e8d9  ...         1         0     20362       320   \n",
      "7  f028772b  ecad2386  7801e8d9  ...         1         0     20632       320   \n",
      "8  28905ebd  ecad2386  7801e8d9  ...         1         2     15707       320   \n",
      "9  50e219e0  ecad2386  7801e8d9  ...         0         0     21689       320   \n",
      "\n",
      "   column_19  column_20  column_21  column_22  column_23  column_24  \n",
      "0         50       1722          0         35         -1         79  \n",
      "1         50       1722          0         35     100084         79  \n",
      "2         50       1722          0         35     100084         79  \n",
      "3         50       1722          0         35     100084         79  \n",
      "4         50       2161          0         35         -1        157  \n",
      "5         50       1899          0        431     100077        117  \n",
      "6         50       2333          0         39         -1        157  \n",
      "7         50       2374          3         39         -1         23  \n",
      "8         50       1722          0         35         -1         79  \n",
      "9         50       2496          3        167     100191         23  \n",
      "\n",
      "[10 rows x 24 columns]\n"
     ]
    }
   ],
   "source": [
    "mid = df['click']\n",
    "df.drop(labels=['click'], axis=1,inplace = True)\n",
    "df.insert(0, 'click', mid)\n",
    "print(df.head(10))\n",
    "headers = [f\"column_{i}\" for i in range(1,25)]\n",
    "df.columns = headers\n",
    "#df.columns = ['column_1','column_2','column_3','column_4',,'column_5','column_6','column_7','column_8','column_9',v'column_10','column_11','column_12','column_13','column_14','column_15','column_16','column_17','column_18','column_19','column_20','column_21','column_22','column_23','column_24']\n",
    "print(df.head(10))"
   ]
  },
  {
   "cell_type": "code",
   "execution_count": 66,
   "id": "7e08c931",
   "metadata": {},
   "outputs": [],
   "source": [
    "#df = df.groupby(f\"column_{2}\").filter(lambda x: len(x) >= 5)"
   ]
  },
  {
   "cell_type": "code",
   "execution_count": 85,
   "id": "f9035bcd",
   "metadata": {},
   "outputs": [
    {
     "name": "stdout",
     "output_type": "stream",
     "text": [
      "   column_1  column_2  column_3  column_4  column_5  column_6  column_7  \\\n",
      "0         0         0  14102100      1005         0  1fbe01fe  f3845767   \n",
      "1         0         0  14102100      1005         0  1fbe01fe  f3845767   \n",
      "2         0         0  14102100      1005         0  1fbe01fe  f3845767   \n",
      "3         0         0  14102100      1005         0  1fbe01fe  f3845767   \n",
      "4         0         0  14102100      1005         1  fe8cc448  9166c161   \n",
      "5         0         0  14102100      1005         0  d6137915  bb1ef334   \n",
      "6         0         0  14102100      1005         0  8fda644b  25d4cfcd   \n",
      "7         0         0  14102100      1005         1  e151e245  7e091613   \n",
      "8         1         0  14102100      1005         0  1fbe01fe  f3845767   \n",
      "9         0         0  14102100      1002         0  84c7ba46  c4e18dd6   \n",
      "\n",
      "   column_8  column_9 column_10  ... column_15 column_16 column_17 column_18  \\\n",
      "0  28905ebd  ecad2386  7801e8d9  ...         1         2     15706       320   \n",
      "1  28905ebd  ecad2386  7801e8d9  ...         1         0     15704       320   \n",
      "2  28905ebd  ecad2386  7801e8d9  ...         1         0     15704       320   \n",
      "3  28905ebd  ecad2386  7801e8d9  ...         1         0     15706       320   \n",
      "4  0569f928  ecad2386  7801e8d9  ...         1         0     18993       320   \n",
      "5  f028772b  ecad2386  7801e8d9  ...         1         0     16920       320   \n",
      "6  f028772b  ecad2386  7801e8d9  ...         1         0     20362       320   \n",
      "7  f028772b  ecad2386  7801e8d9  ...         1         0     20632       320   \n",
      "8  28905ebd  ecad2386  7801e8d9  ...         1         2     15707       320   \n",
      "9  50e219e0  ecad2386  7801e8d9  ...         0         0     21689       320   \n",
      "\n",
      "   column_19  column_20  column_21  column_22  column_23  column_24  \n",
      "0         50       1722          0         35         -1         79  \n",
      "1         50       1722          0         35     100084         79  \n",
      "2         50       1722          0         35     100084         79  \n",
      "3         50       1722          0         35     100084         79  \n",
      "4         50       2161          0         35         -1        157  \n",
      "5         50       1899          0        431     100077        117  \n",
      "6         50       2333          0         39         -1        157  \n",
      "7         50       2374          3         39         -1         23  \n",
      "8         50       1722          0         35         -1         79  \n",
      "9         50       2496          3        167     100191         23  \n",
      "\n",
      "[10 rows x 24 columns]\n"
     ]
    }
   ],
   "source": [
    "df['column_2'] = 0\n",
    "print(df.head(10))"
   ]
  },
  {
   "cell_type": "code",
   "execution_count": 86,
   "id": "36150ef8",
   "metadata": {},
   "outputs": [],
   "source": [
    "df['column_2'] = df['column_2'].astype('category').cat.codes"
   ]
  },
  {
   "cell_type": "code",
   "execution_count": 87,
   "id": "fe127616",
   "metadata": {},
   "outputs": [],
   "source": [
    "df[f'column_{3}'] = df[f'column_{3}'].astype('category').cat.codes"
   ]
  },
  {
   "cell_type": "code",
   "execution_count": 88,
   "id": "b3141266",
   "metadata": {},
   "outputs": [],
   "source": [
    "for i in range(4,25):\n",
    "    df[f'column_{i}'] = df[f'column_{i}'].astype('category').cat.codes"
   ]
  },
  {
   "cell_type": "code",
   "execution_count": 89,
   "id": "23e56ecd",
   "metadata": {
    "scrolled": true
   },
   "outputs": [
    {
     "name": "stdout",
     "output_type": "stream",
     "text": [
      "0           0\n",
      "1           0\n",
      "2           0\n",
      "3           0\n",
      "4           0\n",
      "           ..\n",
      "40428962    0\n",
      "40428963    0\n",
      "40428964    0\n",
      "40428965    0\n",
      "40428966    0\n",
      "Name: column_2, Length: 40428967, dtype: int8\n"
     ]
    }
   ],
   "source": [
    "print( df[f'column_{2}'])"
   ]
  },
  {
   "cell_type": "code",
   "execution_count": 91,
   "id": "77791370",
   "metadata": {},
   "outputs": [
    {
     "name": "stdout",
     "output_type": "stream",
     "text": [
      "0\n"
     ]
    }
   ],
   "source": [
    "print( df[f'column_{2}'].max())"
   ]
  },
  {
   "cell_type": "code",
   "execution_count": 92,
   "id": "10f20138",
   "metadata": {},
   "outputs": [],
   "source": [
    "df[f'column_{3}'] += df[f'column_{2}'].max()+1"
   ]
  },
  {
   "cell_type": "code",
   "execution_count": 93,
   "id": "3ba632d7",
   "metadata": {},
   "outputs": [
    {
     "name": "stdout",
     "output_type": "stream",
     "text": [
      "1\n"
     ]
    }
   ],
   "source": [
    "print(df[f'column_{3}'].min())"
   ]
  },
  {
   "cell_type": "code",
   "execution_count": 94,
   "id": "9fc83cdf",
   "metadata": {},
   "outputs": [],
   "source": [
    "for i in range(4,25):\n",
    "    df[f'column_{i}'] += df[f'column_{i-1}'].max()+1"
   ]
  },
  {
   "cell_type": "code",
   "execution_count": 95,
   "id": "57b971b5",
   "metadata": {},
   "outputs": [
    {
     "name": "stdout",
     "output_type": "stream",
     "text": [
      "9449386\n"
     ]
    }
   ],
   "source": [
    "print(df[f'column_{24}'].min())"
   ]
  },
  {
   "cell_type": "code",
   "execution_count": 96,
   "id": "719193fa",
   "metadata": {},
   "outputs": [
    {
     "name": "stdout",
     "output_type": "stream",
     "text": [
      "9449385\n"
     ]
    }
   ],
   "source": [
    "print(df[f'column_{23}'].max())"
   ]
  },
  {
   "cell_type": "code",
   "execution_count": 97,
   "id": "ea9a66cc",
   "metadata": {},
   "outputs": [
    {
     "name": "stdout",
     "output_type": "stream",
     "text": [
      "9449446\n"
     ]
    }
   ],
   "source": [
    "num_features = df[f'column_{24}'].max() + 1\n",
    "print(num_features)"
   ]
  },
  {
   "cell_type": "code",
   "execution_count": 98,
   "id": "8ddab13b",
   "metadata": {},
   "outputs": [
    {
     "name": "stdout",
     "output_type": "stream",
     "text": [
      "Remapping feature ids according to the frequency...\n"
     ]
    }
   ],
   "source": [
    "print(\"Remapping feature ids according to the frequency...\")\n",
    "freq_list = df.groupby(f'column_{2}').size().to_list() + df.groupby(f'column_{3}').size().to_list()\n",
    "\n"
   ]
  },
  {
   "cell_type": "code",
   "execution_count": 99,
   "id": "498b98c4",
   "metadata": {},
   "outputs": [],
   "source": [
    "for i in range(4,25):\n",
    "    freq_list = freq_list + df.groupby(f'column_{i}').size().to_list()"
   ]
  },
  {
   "cell_type": "code",
   "execution_count": 100,
   "id": "45d8fbec",
   "metadata": {},
   "outputs": [],
   "source": [
    "freq_list_sorted = sorted(range(len(freq_list)), key=lambda k: freq_list[k])[::-1]\n",
    "freq_map = {k: v for v, k in enumerate(freq_list_sorted)}"
   ]
  },
  {
   "cell_type": "code",
   "execution_count": 101,
   "id": "a7a16586",
   "metadata": {},
   "outputs": [],
   "source": [
    "df[f'column_{3}'] = df[f'column_{3}'].map(freq_map)"
   ]
  },
  {
   "cell_type": "code",
   "execution_count": 102,
   "id": "30a4326e",
   "metadata": {},
   "outputs": [],
   "source": [
    "for i in range(4,25):\n",
    "    df[f'column_{i}'] = df[f'column_{i}'].map(freq_map)"
   ]
  },
  {
   "cell_type": "code",
   "execution_count": 103,
   "id": "40a80066",
   "metadata": {},
   "outputs": [
    {
     "name": "stdout",
     "output_type": "stream",
     "text": [
      "Splitting...\n"
     ]
    }
   ],
   "source": [
    "from sklearn.model_selection import train_test_split\n",
    "import pickle\n",
    "import os\n",
    "\n",
    "\n",
    "\n",
    "def train_val_test_split(data_df, test_ratio=0.1, val_ratio=0.2, seed=12):\n",
    "    train, test = train_test_split(data_df, test_size=test_ratio, random_state=seed)\n",
    "    train, val = train_test_split(train, test_size=val_ratio / (1 - test_ratio), random_state=seed)\n",
    "    return train, val, test\n",
    "\n",
    "print(\"Splitting...\")\n",
    "train_df, val_df, test_df = train_val_test_split(df, test_ratio=0.1, val_ratio=0.2, seed=12)"
   ]
  },
  {
   "cell_type": "code",
   "execution_count": 104,
   "id": "ffb0b2ec",
   "metadata": {},
   "outputs": [],
   "source": [
    "class Avazu_Dataset(Dataset):\n",
    "    def __init__(self, data_df):\n",
    "        self.x = torch.LongTensor(np.array(data_df.drop(columns=['column_1'])))\n",
    "        self.y = torch.Tensor(np.array(data_df['column_1']))\n",
    "\n",
    "    def __getitem__(self, idx):\n",
    "        return self.x[idx], torch.ones_like(self.x[idx], dtype=torch.float32), self.y[idx]\n",
    "\n",
    "    def __len__(self):\n",
    "        return len(self.x)\n"
   ]
  },
  {
   "cell_type": "code",
   "execution_count": 105,
   "id": "6bd443b0",
   "metadata": {},
   "outputs": [
    {
     "name": "stdout",
     "output_type": "stream",
     "text": [
      "The dataset has been preprocessed.\n",
      "File saved.\n"
     ]
    }
   ],
   "source": [
    "print(\"The dataset has been preprocessed.\")\n",
    "result = [Avazu_Dataset(train_df), Avazu_Dataset(val_df), Avazu_Dataset(test_df), num_features]\n",
    "with open(f\"dataset.pickle\", 'wb') as handle:\n",
    "    pickle.dump(result, handle,protocol = 4)\n",
    "    print(\"File saved.\")\n",
    "\n"
   ]
  },
  {
   "cell_type": "code",
   "execution_count": null,
   "id": "13aa34b8",
   "metadata": {},
   "outputs": [],
   "source": []
  }
 ],
 "metadata": {
  "kernelspec": {
   "display_name": "Python [conda env:py37pt17] *",
   "language": "python",
   "name": "conda-env-py37pt17-py"
  },
  "language_info": {
   "codemirror_mode": {
    "name": "ipython",
    "version": 3
   },
   "file_extension": ".py",
   "mimetype": "text/x-python",
   "name": "python",
   "nbconvert_exporter": "python",
   "pygments_lexer": "ipython3",
   "version": "3.7.10"
  }
 },
 "nbformat": 4,
 "nbformat_minor": 5
}
